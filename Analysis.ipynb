{
 "cells": [
  {
   "cell_type": "markdown",
   "metadata": {},
   "source": [
    "# Project description\n",
    "\n",
    "we work for the OilyGiant mining company. Our task is to find the best place for a new well.\n",
    "\n",
    "Steps to choose the location:\n",
    "- Collect the oil well parameters in the selected region: oil quality and volume of reserves;\n",
    "- Build a model for predicting the volume of reserves in the new wells;\n",
    "- Pick the oil wells with the highest estimated values;\n",
    "- Pick the region with the highest total profit for the selected oil wells.\n",
    "\n",
    "we have data on oil samples from three regions. Parameters of each oil well in the region are already known. Build a model that will help to pick the region with the highest profit margin. Analyze potential profit and risks using the Bootstrapping technique."
   ]
  },
  {
   "cell_type": "markdown",
   "metadata": {},
   "source": [
    "## Data description\n",
    "\n",
    "Geological exploration data for three different regions with the following variables:\n",
    "\n",
    "- id — unique oil well identifier\n",
    "- f0, f1, f2 — three features of points (their specific meaning is unimportant, but the features themselves are significant)\n",
    "- product — volume of reserves in the oil well (thousand barrels).\n"
   ]
  },
  {
   "cell_type": "markdown",
   "metadata": {},
   "source": [
    "## Conditions:\n",
    "\n",
    "- Only linear regression is suitable for model training (the rest are not sufficiently predictable).\n",
    "- When exploring the region, a study of 500 points is carried with picking the best 200 points for the profit calculation.\n",
    "- The budget for development of 200 oil wells is 100 USD million.\n",
    "- One barrel of raw materials brings 4.5 USD of revenue The revenue from one unit of product is 4,500 dollars (volume of reserves is in thousand barrels).\n",
    "- After the risk evaluation, keep only the regions with the risk of losses lower than 2.5%. From the ones that fit the criteria, the region with the highest average profit should be selected.\n",
    "- The data is synthetic: contract details and well characteristics are not disclosed."
   ]
  },
  {
   "cell_type": "code",
   "execution_count": 2,
   "metadata": {},
   "outputs": [],
   "source": [
    "import pandas as pd\n",
    "import numpy as np\n",
    "from scipy.stats import skew, kurtosis, shapiro\n",
    "import matplotlib.pyplot as plt\n",
    "import matplotlib.pyplot as plt\n",
    "from sklearn.model_selection import train_test_split\n",
    "from sklearn.linear_model import LinearRegression\n",
    "from sklearn.metrics import mean_squared_error"
   ]
  },
  {
   "cell_type": "code",
   "execution_count": 3,
   "metadata": {},
   "outputs": [],
   "source": [
    "try:\n",
    "    df_geo_1 = pd.read_csv('geo_data_0.csv', sep=',')\n",
    "\n",
    "except FileNotFoundError:\n",
    "    df_geo_1 = pd.read_csv('https://practicum-content.s3.us-west-1.amazonaws.com/datasets/geo_data_0.csv', sep=',')\n",
    "\n",
    "\n",
    "try:\n",
    "    df_geo_2 = pd.read_csv('geo_data_1.csv', sep=',')\n",
    "\n",
    "except FileNotFoundError:\n",
    "    df_geo_2 = pd.read_csv('https://practicum-content.s3.us-west-1.amazonaws.com/datasets/geo_data_1.csv', sep=',')\n",
    "\n",
    "\n",
    "try:\n",
    "    df_geo_3 = pd.read_csv('geo_data_2.csv', sep=',')\n",
    "\n",
    "except FileNotFoundError:\n",
    "    df_geo_3 = pd.read_csv('https://practicum-content.s3.us-west-1.amazonaws.com/datasets/geo_data_2.csv', sep=',')"
   ]
  },
  {
   "cell_type": "code",
   "execution_count": 4,
   "metadata": {},
   "outputs": [
    {
     "name": "stdout",
     "output_type": "stream",
     "text": [
      "<class 'pandas.core.frame.DataFrame'>\n",
      "RangeIndex: 100000 entries, 0 to 99999\n",
      "Data columns (total 5 columns):\n",
      " #   Column   Non-Null Count   Dtype  \n",
      "---  ------   --------------   -----  \n",
      " 0   id       100000 non-null  object \n",
      " 1   f0       100000 non-null  float64\n",
      " 2   f1       100000 non-null  float64\n",
      " 3   f2       100000 non-null  float64\n",
      " 4   product  100000 non-null  float64\n",
      "dtypes: float64(4), object(1)\n",
      "memory usage: 3.8+ MB\n"
     ]
    }
   ],
   "source": [
    "df_geo_1.info()"
   ]
  },
  {
   "cell_type": "code",
   "execution_count": 5,
   "metadata": {},
   "outputs": [
    {
     "data": {
      "text/plain": [
       "(100000, 5)"
      ]
     },
     "execution_count": 5,
     "metadata": {},
     "output_type": "execute_result"
    }
   ],
   "source": [
    "df_geo_1.shape"
   ]
  },
  {
   "cell_type": "code",
   "execution_count": 6,
   "metadata": {},
   "outputs": [
    {
     "name": "stdout",
     "output_type": "stream",
     "text": [
      "          id        f0        f1         f2     product\n",
      "7530   HZww2  1.061194 -0.373969  10.430210  158.828695\n",
      "41724  bxg6G -0.823752  0.546319   3.630479   93.007798\n",
      "51970  A5aEY -0.180335  0.935548  -2.094773   33.020205\n",
      "63593  QcMuo  0.635635 -0.473422   0.862670   64.578675\n",
      "66136  74z30  1.084962 -0.312358   6.990771  127.643327\n",
      "69163  AGS9W -0.933795  0.116194  -3.655896   19.230453\n",
      "75715  Tdehs  0.112079  0.430296   3.218993   60.964018\n",
      "90815  fiKDv  0.049883  0.841313   6.394613  137.346586\n",
      "92341  TtcGQ  0.110711  1.022689   0.911381  101.318008\n",
      "97785  bsk9y  0.378429  0.005837   0.160827  160.637302\n"
     ]
    }
   ],
   "source": [
    "duplicate_ids_1 = df_geo_1[df_geo_1.duplicated('id')]\n",
    "print(duplicate_ids_1)"
   ]
  },
  {
   "cell_type": "code",
   "execution_count": 7,
   "metadata": {},
   "outputs": [
    {
     "data": {
      "text/plain": [
       "10"
      ]
     },
     "execution_count": 7,
     "metadata": {},
     "output_type": "execute_result"
    }
   ],
   "source": [
    "df_geo_1.duplicated('id').sum()"
   ]
  },
  {
   "cell_type": "code",
   "execution_count": 8,
   "metadata": {},
   "outputs": [
    {
     "name": "stdout",
     "output_type": "stream",
     "text": [
      "          id         f0        f1        f2     product\n",
      "41906  LHZR0  -8.989672 -4.286607  2.009139   57.085625\n",
      "82178  bfPNe  -6.202799 -4.820045  2.995107   84.038886\n",
      "82873  wt4Uk  10.259972 -9.376355  4.994297  134.766305\n",
      "84461  5ltQ6  18.213839  2.191999  3.993869  107.813044\n"
     ]
    }
   ],
   "source": [
    "duplicate_ids_2 = df_geo_2[df_geo_2.duplicated('id')]\n",
    "print(duplicate_ids_2)"
   ]
  },
  {
   "cell_type": "code",
   "execution_count": 9,
   "metadata": {},
   "outputs": [
    {
     "data": {
      "text/plain": [
       "4"
      ]
     },
     "execution_count": 9,
     "metadata": {},
     "output_type": "execute_result"
    }
   ],
   "source": [
    "df_geo_2.duplicated('id').sum()"
   ]
  },
  {
   "cell_type": "code",
   "execution_count": 10,
   "metadata": {},
   "outputs": [
    {
     "name": "stdout",
     "output_type": "stream",
     "text": [
      "          id        f0        f1        f2     product\n",
      "43233  xCHr8 -0.847066  2.101796  5.597130  184.388641\n",
      "49564  VF7Jo -0.883115  0.560537  0.723601  136.233420\n",
      "55967  KUPhW  1.211150  3.176408  5.543540  132.831802\n",
      "95090  Vcm5J  2.587702  1.986875  2.482245   92.327572\n"
     ]
    }
   ],
   "source": [
    "duplicate_ids_3 = df_geo_3[df_geo_3.duplicated('id')]\n",
    "print(duplicate_ids_3)"
   ]
  },
  {
   "cell_type": "code",
   "execution_count": 11,
   "metadata": {},
   "outputs": [
    {
     "data": {
      "text/plain": [
       "4"
      ]
     },
     "execution_count": 11,
     "metadata": {},
     "output_type": "execute_result"
    }
   ],
   "source": [
    "df_geo_3.duplicated('id').sum()"
   ]
  },
  {
   "cell_type": "code",
   "execution_count": 12,
   "metadata": {},
   "outputs": [],
   "source": [
    "df_geo_1.drop_duplicates(subset=['id'], inplace=True)\n",
    "df_geo_2.drop_duplicates(subset=['id'], inplace=True)\n",
    "df_geo_3.drop_duplicates(subset=['id'], inplace=True)"
   ]
  },
  {
   "cell_type": "code",
   "execution_count": 13,
   "metadata": {},
   "outputs": [
    {
     "data": {
      "text/plain": [
       "(99990, 5)"
      ]
     },
     "execution_count": 13,
     "metadata": {},
     "output_type": "execute_result"
    }
   ],
   "source": [
    "df_geo_1.shape"
   ]
  },
  {
   "cell_type": "code",
   "execution_count": 14,
   "metadata": {},
   "outputs": [
    {
     "data": {
      "text/plain": [
       "(99996, 5)"
      ]
     },
     "execution_count": 14,
     "metadata": {},
     "output_type": "execute_result"
    }
   ],
   "source": [
    "df_geo_2.shape"
   ]
  },
  {
   "cell_type": "code",
   "execution_count": 15,
   "metadata": {},
   "outputs": [
    {
     "data": {
      "text/plain": [
       "(99996, 5)"
      ]
     },
     "execution_count": 15,
     "metadata": {},
     "output_type": "execute_result"
    }
   ],
   "source": [
    "df_geo_3.shape"
   ]
  },
  {
   "cell_type": "code",
   "execution_count": 16,
   "metadata": {},
   "outputs": [],
   "source": [
    "# Drop the id column\n",
    "df_geo_1.drop('id', axis=1, inplace=True)\n",
    "df_geo_2.drop('id', axis=1, inplace=True)\n",
    "df_geo_3.drop('id', axis=1, inplace=True)"
   ]
  },
  {
   "cell_type": "code",
   "execution_count": 17,
   "metadata": {},
   "outputs": [
    {
     "data": {
      "image/png": "[encoded data removed]",
      "text/plain": [
       "<Figure size 1000x1000 with 4 Axes>"
      ]
     },
     "metadata": {},
     "output_type": "display_data"
    }
   ],
   "source": [
    "df_geo_1.hist(bins=20, figsize=(10,10))\n",
    "plt.tight_layout()\n",
    "plt.show()"
   ]
  },
  {
   "cell_type": "code",
   "execution_count": 18,
   "metadata": {},
   "outputs": [
    {
     "name": "stdout",
     "output_type": "stream",
     "text": [
      "f0: Mean=0.5004544259880562, Median=0.5024054255613645, Std=0.8718442347826002, Skewness=-0.00037589552424751037\n",
      "f1: Mean=0.2501406576124108, Median=0.25025228798345783, Std=0.5044297097274029, Skewness=0.0007148369404845593\n",
      "f2: Mean=2.5026287103810834, Median=2.5159691067559757, Std=3.248148844236954, Skewness=-0.0030667258992310422\n",
      "product: Mean=92.49968421774354, Median=91.84792790724278, Std=44.28830363562306, Skewness=0.004828292045154546\n"
     ]
    }
   ],
   "source": [
    "# Calculate central tendency and spread\n",
    "mean1_f0 = df_geo_1['f0'].mean()\n",
    "median1_f0 = df_geo_1['f0'].median()\n",
    "std1_f0 = df_geo_1['f0'].std()\n",
    "skew1_f0 = skew(df_geo_1['f0'])\n",
    "\n",
    "\n",
    "mean1_f1 = df_geo_1['f1'].mean()\n",
    "median1_f1 = df_geo_1['f1'].median()\n",
    "std1_f1 = df_geo_1['f1'].std()\n",
    "skew1_f1 = skew(df_geo_1['f1'])\n",
    "\n",
    "\n",
    "mean1_f2 = df_geo_1['f2'].mean()\n",
    "median1_f2 = df_geo_1['f2'].median()\n",
    "std1_f2 = df_geo_1['f2'].std()\n",
    "skew1_f2 = skew(df_geo_1['f2'])\n",
    "\n",
    "\n",
    "mean1_product = df_geo_1['product'].mean()\n",
    "median1_product = df_geo_1['product'].median()\n",
    "std1_product = df_geo_1['product'].std()\n",
    "skew1_product = skew(df_geo_1['product'])\n",
    "\n",
    "\n",
    "print(f\"f0: Mean={mean1_f0}, Median={median1_f0}, Std={std1_f0}, Skewness={skew1_f0}\")\n",
    "print(f\"f1: Mean={mean1_f1}, Median={median1_f1}, Std={std1_f1}, Skewness={skew1_f1}\")\n",
    "print(f\"f2: Mean={mean1_f2}, Median={median1_f2}, Std={std1_f2}, Skewness={skew1_f2}\")\n",
    "print(f\"product: Mean={mean1_product}, Median={median1_product}, Std={std1_product}, Skewness={skew1_product}\")"
   ]
  },
  {
   "cell_type": "markdown",
   "metadata": {},
   "source": [
    "for the first region, while the mean and median values for f0,f1, and f2 varied, the standard deviation and skewness of the product were notably different. The skewness value of the product was positive, indicating a slight skewness to the right. This suggests that the combination of the features resulted in a more spread out distribution with some outliers impacting the overall distribution."
   ]
  },
  {
   "cell_type": "code",
   "execution_count": 19,
   "metadata": {},
   "outputs": [
    {
     "data": {
      "image/png": "[encoded data removed]",
      "text/plain": [
       "<Figure size 1000x1000 with 4 Axes>"
      ]
     },
     "metadata": {},
     "output_type": "display_data"
    }
   ],
   "source": [
    "df_geo_2.hist(bins=20, figsize=(10,10), color='brown')\n",
    "plt.tight_layout()\n",
    "plt.show()"
   ]
  },
  {
   "cell_type": "code",
   "execution_count": 20,
   "metadata": {},
   "outputs": [
    {
     "name": "stdout",
     "output_type": "stream",
     "text": [
      "f0: Mean=1.141208670340875, Median=1.1530552313242992, Std=8.965814583490898, Skewness=0.0019618180358189777\n",
      "f1: Mean=-4.796608103039279, Median=-4.813171838262699, Std=5.119905596124132, Skewness=0.016595555016460324\n",
      "f2: Mean=2.4945011083052373, Median=2.0114745953222206, Std=1.7035792242838101, Skewness=0.006698184354049067\n",
      "product: Mean=68.82391591804064, Median=57.08562464628662, Std=45.9446629620274, Skewness=0.00671969528424719\n"
     ]
    }
   ],
   "source": [
    "# Calculate central tendency and spread\n",
    "mean2_f0 = df_geo_2['f0'].mean()\n",
    "median2_f0 = df_geo_2['f0'].median()\n",
    "std2_f0 = df_geo_2['f0'].std()\n",
    "skew2_f0 = skew(df_geo_2['f0'])\n",
    "\n",
    "mean2_f1 = df_geo_2['f1'].mean()\n",
    "median2_f1 = df_geo_2['f1'].median()\n",
    "std2_f1 = df_geo_2['f1'].std()\n",
    "skew2_f1 = skew(df_geo_2['f1'])\n",
    "\n",
    "mean2_f2 = df_geo_2['f2'].mean()\n",
    "median2_f2 = df_geo_2['f2'].median()\n",
    "std2_f2 = df_geo_2['f2'].std()\n",
    "skew2_f2 = skew(df_geo_2['f2'])\n",
    "\n",
    "mean2_product = df_geo_2['product'].mean()\n",
    "median2_product = df_geo_2['product'].median()\n",
    "std2_product = df_geo_2['product'].std()\n",
    "skew2_product = skew(df_geo_2['product'])\n",
    "\n",
    "\n",
    "\n",
    "print(f\"f0: Mean={mean2_f0}, Median={median2_f0}, Std={std2_f0}, Skewness={skew2_f0}\")\n",
    "print(f\"f1: Mean={mean2_f1}, Median={median2_f1}, Std={std2_f1}, Skewness={skew2_f1}\")\n",
    "print(f\"f2: Mean={mean2_f2}, Median={median2_f2}, Std={std2_f2}, Skewness={skew2_f2}\")\n",
    "print(f\"product: Mean={mean2_product}, Median={median2_product}, Std={std2_product}, Skewness={skew2_product}\")"
   ]
  },
  {
   "cell_type": "markdown",
   "metadata": {},
   "source": [
    "on the second region, f0, f1, and f2 show varying mean values and standard deviations. However, when considering the product of these columns, there is a significant increase in both the mean and standard deviation, indicating a larger spread of data and potentially more variability in the overall dataset."
   ]
  },
  {
   "cell_type": "code",
   "execution_count": 21,
   "metadata": {},
   "outputs": [
    {
     "data": {
      "image/png": "[encoded data removed]",
      "text/plain": [
       "<Figure size 1000x1000 with 4 Axes>"
      ]
     },
     "metadata": {},
     "output_type": "display_data"
    }
   ],
   "source": [
    "df_geo_3.hist(bins=20, figsize=(10,10), color='green')\n",
    "\n",
    "plt.tight_layout()\n",
    "plt.show()"
   ]
  },
  {
   "cell_type": "code",
   "execution_count": 22,
   "metadata": {},
   "outputs": [
    {
     "name": "stdout",
     "output_type": "stream",
     "text": [
      "f0: Mean=0.002002090099781815, Median=0.0094235897936458, Std=1.73205168173928, Skewness=0.003942800725811949\n",
      "f1: Mean=-0.0021588769637954264, Median=-0.009660516860615, Std=1.730397363678718, Skewness=0.014842811266556406\n",
      "f2: Mean=2.4950839179832744, Median=2.4842358439369527, Std=3.4734823468245604, Skewness=0.004082276924564332\n",
      "product: Mean=94.99834211933378, Median=94.92502617656251, Std=44.74957256192249, Skewness=0.004672805810373743\n"
     ]
    }
   ],
   "source": [
    "# Calculate central tendency and spread\n",
    "mean3_f0 = df_geo_3['f0'].mean()\n",
    "median3_f0 = df_geo_3['f0'].median()\n",
    "std3_f0 = df_geo_3['f0'].std()\n",
    "skew3_f0 = skew(df_geo_3['f0'])\n",
    "\n",
    "mean3_f1 = df_geo_3['f1'].mean()\n",
    "median3_f1 = df_geo_3['f1'].median()\n",
    "std3_f1 = df_geo_3['f1'].std()\n",
    "skew3_f1 = skew(df_geo_3['f1'])\n",
    "\n",
    "mean3_f2 = df_geo_3['f2'].mean()\n",
    "median3_f2 = df_geo_3['f2'].median()\n",
    "std3_f2 = df_geo_3['f2'].std()\n",
    "skew3_f2 = skew(df_geo_3['f2'])\n",
    "\n",
    "mean3_product = df_geo_3['product'].mean()\n",
    "median3_product = df_geo_3['product'].median()\n",
    "std3_product = df_geo_3['product'].std()\n",
    "skew3_product = skew(df_geo_3['product'])\n",
    "\n",
    "\n",
    "print(f\"f0: Mean={mean3_f0}, Median={median3_f0}, Std={std3_f0}, Skewness={skew3_f0}\")\n",
    "print(f\"f1: Mean={mean3_f1}, Median={median3_f1}, Std={std3_f1}, Skewness={skew3_f1}\")\n",
    "print(f\"f2: Mean={mean3_f2}, Median={median3_f2}, Std={std3_f2}, Skewness={skew3_f2}\")\n",
    "print(f\"product: Mean={mean3_product}, Median={median3_product}, Std={std3_product}, Skewness={skew3_product}\")"
   ]
  },
  {
   "cell_type": "markdown",
   "metadata": {},
   "source": [
    "for the third region, the four columns f0, f1, f2, and product exhibit similar measures of central tendency, with mean and median values close to each other. The standard deviations for f0, f1, and f2 are relatively close, indicating similar levels of dispersion in the data. Additionally, the skewness values for all four columns are close to zero, suggesting that the data is fairly symmetrical. "
   ]
  },
  {
   "cell_type": "code",
   "execution_count": 23,
   "metadata": {},
   "outputs": [],
   "source": [
    "# Number of wells\n",
    "Num_wells = 200\n",
    "\n",
    "# Study data\n",
    "Num_points = 500\n",
    "Best_points = 200\n",
    "\n",
    "# Budget for development\n",
    "Budget = 100000000\n",
    "\n",
    "# Revenue per barrel\n",
    "Revenue_per_barrel = 4.5 * 1000\n",
    "\n",
    "# Risk evaluation\n",
    "Risk_threshold = 2.5"
   ]
  },
  {
   "cell_type": "code",
   "execution_count": 24,
   "metadata": {},
   "outputs": [],
   "source": [
    "# Train and test linear regression model for each region\n",
    "def train_test_model(df):\n",
    "    X = df.drop('product', axis=1)\n",
    "    y = df['product']\n",
    "    \n",
    "    X_train, X_valid, y_train, y_valid = train_test_split(X, y, test_size=0.25, random_state=42)\n",
    "    \n",
    "    model = LinearRegression()\n",
    "    model.fit(X_train, y_train)\n",
    "    \n",
    "    y_pred = model.predict(X_valid)\n",
    "    \n",
    "    avg_volume = np.mean(df['product'])\n",
    "    \n",
    "    rmse = mean_squared_error(y_valid, y_pred, squared=False)\n",
    "    \n",
    "    return y_pred, y_valid, y_pred.mean(), rmse"
   ]
  },
  {
   "cell_type": "code",
   "execution_count": 25,
   "metadata": {},
   "outputs": [],
   "source": [
    "# Store key values for calculations\n",
    "Profits = []\n",
    "Average_volumes = []\n",
    "Min_barrels = Budget / Revenue_per_barrel"
   ]
  },
  {
   "cell_type": "code",
   "execution_count": 26,
   "metadata": {},
   "outputs": [
    {
     "name": "stdout",
     "output_type": "stream",
     "text": [
      "Region 1 - RMSE: 37.68508926201444\n",
      "Region 1 - Average Number of Products: 92.60984027552014\n",
      "--------------------------------------------------\n",
      "Region 2 - RMSE: 0.8928265978121422\n",
      "Region 2 - Average Number of Products: 68.57703454115173\n",
      "--------------------------------------------------\n",
      "Region 3 - RMSE: 40.080822438088305\n",
      "Region 3 - Average Number of Products: 94.93478722287514\n",
      "--------------------------------------------------\n"
     ]
    }
   ],
   "source": [
    "#This code will loop through each region's data, train and test the linear regression model, and display the RMSE and average number of products for each region individually.\n",
    "\n",
    "for i, df_geo in enumerate([df_geo_1, df_geo_2, df_geo_3]):\n",
    "    y_pred, y_valid, avg_volume, rmse = train_test_model(df_geo)\n",
    "    \n",
    "    Average_volumes.append(avg_volume)\n",
    "    \n",
    "    Profit = (y_pred.sum() - Min_barrels) * Revenue_per_barrel\n",
    "    Profits.append(Profit)\n",
    "    \n",
    "    print(f\"Region {i+1} - RMSE: {rmse}\")\n",
    "    print(f\"Region {i+1} - Average Number of Products: {avg_volume}\")\n",
    "    print(\"--------------------------------------------------\")"
   ]
  },
  {
   "cell_type": "markdown",
   "metadata": {},
   "source": [
    "Region 2 has the lowest RMSE value and the lowest average number of products compared to Regions 1 and 3. Region 3 has the highest RMSE value and the highest average number of products. These differences in RMSE and average number of products suggest varying levels of accuracy and product diversity across the three regions. Further analysis and investigation may be needed to understand the underlying factors contributing to these differences.."
   ]
  },
  {
   "cell_type": "code",
   "execution_count": 27,
   "metadata": {},
   "outputs": [],
   "source": [
    "def break_even_volume(budget, revenue_per_barrel, Num_wells):\n",
    "    return (budget / revenue_per_barrel) / Num_wells"
   ]
  },
  {
   "cell_type": "code",
   "execution_count": 28,
   "metadata": {},
   "outputs": [],
   "source": [
    "def revenue_profit_calculation(targets, predictions, budget=100_000_000, unit_revenue=4500):\n",
    "    # Reset indices to align target values\n",
    "    targets.reset_index(drop=True, inplace=True)\n",
    "    \n",
    "    # Combine predictions and targets\n",
    "    predictions_df = pd.DataFrame(predictions, columns=['predicted_product'])\n",
    "    results = pd.concat([predictions_df, targets], axis=1)\n",
    "    \n",
    "    # Sort predictions in descending order and take the first 200 wells\n",
    "    results = results.sort_values(by='predicted_product', ascending=False).head(200)\n",
    "    \n",
    "    # Calculate total units in the selected wells\n",
    "    total_units = results['product'].sum()\n",
    "    \n",
    "    # Calculate profit\n",
    "    profit = total_units * unit_revenue - budget\n",
    "    \n",
    "    return profit"
   ]
  },
  {
   "cell_type": "code",
   "execution_count": 29,
   "metadata": {},
   "outputs": [
    {
     "name": "stdout",
     "output_type": "stream",
     "text": [
      "Region 1:\n",
      "Break-even Oil Volume: 111.11111111111111\n",
      "Average Volume in Region: 92.60984027552014\n",
      "Profit: 34685297.87422389\n",
      "------\n",
      "Region 2:\n",
      "Break-even Oil Volume: 111.11111111111111\n",
      "Average Volume in Region: 68.57703454115173\n",
      "Profit: 24150866.966815114\n",
      "------\n",
      "Region 3:\n",
      "Break-even Oil Volume: 111.11111111111111\n",
      "Average Volume in Region: 94.93478722287514\n",
      "Profit: 23966130.009398475\n",
      "------\n"
     ]
    }
   ],
   "source": [
    "# Store break-even volumes and profits\n",
    "Break_even_volumes = []\n",
    "Profits = []\n",
    "\n",
    "for i, df_geo in enumerate([df_geo_1, df_geo_2, df_geo_3]):\n",
    "    y_pred, y_valid, avg_volume, rmse = train_test_model(df_geo)\n",
    "    \n",
    "    break_even_vol = break_even_volume(Budget, Revenue_per_barrel, Num_wells)\n",
    "    Break_even_volumes.append(break_even_vol)\n",
    "    \n",
    "    profit = revenue_profit_calculation(y_valid, y_pred)\n",
    "    Profits.append(profit)\n",
    "    \n",
    "    print(f\"Region {i+1}:\")\n",
    "    print(\"Break-even Oil Volume:\", break_even_vol)\n",
    "    print(\"Average Volume in Region:\", avg_volume)\n",
    "    print(\"Profit:\", profit)\n",
    "    print(\"------\")"
   ]
  },
  {
   "cell_type": "code",
   "execution_count": 30,
   "metadata": {},
   "outputs": [
    {
     "name": "stdout",
     "output_type": "stream",
     "text": [
      "Best Region: 1\n"
     ]
    }
   ],
   "source": [
    "# Find the region with the highest average profit\n",
    "max_profit_idx = np.argmax(Profits)\n",
    "Best_region = max_profit_idx + 1\n",
    "\n",
    "print(\"Best Region:\", Best_region)"
   ]
  },
  {
   "cell_type": "markdown",
   "metadata": {},
   "source": [
    "```markdown\n",
    "After analyzing the data from Regions 1, 2, and 3, it is evident that Region 1 generated the highest profit with an average volume of 92.61 and a profit of $34,685,297.87. Region 2 had an average volume of 68.58 and a profit of $24,150,866.97, while Region 3 had an average volume of 94.93 and a profit of $23,966,130.00. Despite all three regions having the same break-even oil volume, Region 1 demonstrated the most efficient and profitable operations..\n",
    "```"
   ]
  },
  {
   "cell_type": "code",
   "execution_count": 31,
   "metadata": {},
   "outputs": [],
   "source": [
    "\n",
    "# Dummy profit calculation function\n",
    "def revenue_profit_calculation(sampled_targets, sampled_predictions):\n",
    "    # Example: simple difference. Replace with your profit calculation logic.\n",
    "    return (sampled_targets - sampled_predictions).sum()\n",
    "\n",
    "# Define the bootstrapping function\n",
    "def bootstrap_revenue(targets, predictions, n_samples=500, n_iterations=1000):\n",
    "    profits = []\n",
    "    \n",
    "    # Ensure inputs are converted to pandas Series if they are not already\n",
    "    targets = pd.Series(targets)\n",
    "    predictions = pd.Series(predictions)\n",
    "    \n",
    "    for _ in range(n_iterations):\n",
    "        sample_indices = np.random.choice(len(targets), size=n_samples, replace=True)\n",
    "        sampled_targets = targets.iloc[sample_indices].reset_index(drop=True)\n",
    "        sampled_predictions = predictions.iloc[sample_indices].reset_index(drop=True)\n",
    "        \n",
    "        profit = revenue_profit_calculation(sampled_targets, sampled_predictions)\n",
    "        profits.append(profit)\n",
    "        \n",
    "    risks = np.array(profits) < 0\n",
    "    mean_risk = np.mean(risks)\n",
    "    \n",
    "    return profits, mean_risk\n",
    "\n"
   ]
  },
  {
   "cell_type": "code",
   "execution_count": 51,
   "metadata": {},
   "outputs": [
    {
     "name": "stdout",
     "output_type": "stream",
     "text": [
      "Region 1 Results:\n",
      "Mean Profit: -120.53516582597746\n",
      "Std Profit: 861.8879378027266\n",
      "Min Profit: -2705.532286001837\n",
      "Max Profit: 2512.4674384612454\n",
      "95% CI Lower: -1836.0671697394876\n",
      "95% CI Upper: 1497.3954294130747\n",
      "Mean Risk: 0.544\n",
      "\n",
      "\n",
      "Region 2 Results:\n",
      "Mean Profit: 3.9228524056992375\n",
      "Std Profit: 19.244998158066927\n",
      "Min Profit: -51.37281950630269\n",
      "Max Profit: 58.05841842551768\n",
      "95% CI Lower: -33.699754961523034\n",
      "95% CI Upper: 40.67892851302768\n",
      "Mean Risk: 0.423\n",
      "\n",
      "\n",
      "Region 3 Results:\n",
      "Mean Profit: 154.99936882785283\n",
      "Std Profit: 892.0264488208278\n",
      "Min Profit: -2334.9735429590182\n",
      "Max Profit: 2924.59420258392\n",
      "95% CI Lower: -1568.8765668028063\n",
      "95% CI Upper: 1881.7355874859009\n",
      "Mean Risk: 0.446\n",
      "\n",
      "\n"
     ]
    }
   ],
   "source": [
    "\n",
    "# Store results for each region\n",
    "Region_results = []\n",
    "\n",
    "for i, df_geo in enumerate([df_geo_1, df_geo_2, df_geo_3]):\n",
    "    y_pred, y_valid, avg_volume, rmse = train_test_model(df_geo)\n",
    "    \n",
    "    risks = np.array(profits) < 0\n",
    "    \n",
    "    \n",
    "    profits, risks = bootstrap_revenue(y_valid, y_pred)\n",
    "    \n",
    "    \n",
    "    mean_profit = np.mean(profits)\n",
    "    std_profit = np.std(profits)\n",
    "    min_profit = np.min(profits)\n",
    "    max_profit = np.max(profits)\n",
    "    lower_ci = np.percentile(profits, 2.5)\n",
    "    upper_ci = np.percentile(profits, 97.5)\n",
    "    mean_risk = np.mean(risks)\n",
    "    \n",
    "    \n",
    "    print(f\"Region {i+1} Results:\")\n",
    "    print(f\"Mean Profit: {mean_profit}\")\n",
    "    print(f\"Std Profit: {std_profit}\")\n",
    "    print(f\"Min Profit: {min_profit}\")\n",
    "    print(f\"Max Profit: {max_profit}\")\n",
    "    print(f\"95% CI Lower: {lower_ci}\")\n",
    "    print(f\"95% CI Upper: {upper_ci}\")\n",
    "    print(f\"Mean Risk: {mean_risk}\")\n",
    "    print(\"\\n\")\n",
    "    \n",
    "    Region_results.append({\n",
    "        'Region': i+1,\n",
    "        'Mean Profit': mean_profit,\n",
    "        'Std Profit': std_profit,\n",
    "        'Min Profit': min_profit,\n",
    "        'Max Profit': max_profit,\n",
    "        '95% CI Lower': lower_ci,\n",
    "        '95% CI Upper': upper_ci,\n",
    "        'Mean Risk': mean_risk\n",
    "    })"
   ]
  },
  {
   "cell_type": "code",
   "execution_count": 36,
   "metadata": {},
   "outputs": [
    {
     "name": "stdout",
     "output_type": "stream",
     "text": [
      "Mean profit:  4254199.359436593\n",
      "95% confidence interval: [-908772.31 9656580.43]\n",
      "Risk of Loss: 6.30%\n"
     ]
    }
   ],
   "source": [
    "# Reviewer's code 6\n",
    "\n",
    "# I'll define the revenue function again.\n",
    "def calculate_profit2(target, predictions):\n",
    "    \n",
    "    # We sort predictions and take those target values that have the same indices.\n",
    "    # Then we find sum and apply formula.\n",
    "    \n",
    "    predictions_sorted = predictions.sort_values(ascending=False)\n",
    "    selected_points = target[predictions_sorted.index][:200]\n",
    "    product = selected_points.sum()\n",
    "    revenue = product * 4500\n",
    "    return revenue - 1e8\n",
    "\n",
    "\n",
    "# It is important to define state outside bootstrapping loop.\n",
    "state = np.random.RandomState(123)\n",
    "\n",
    "y_pred, y_valid, avg_volume, rmse = train_test_model(df_geo_1)\n",
    "\n",
    "target = y_valid.reset_index(drop=True) # drop indices to make sure they match predictions' indices\n",
    "predictions = pd.Series(y_pred)\n",
    "\n",
    "profit_values = []\n",
    "\n",
    "# Repeat sampling 1000 times\n",
    "for _ in range(1000):\n",
    "    \n",
    "    # Sample 500 rows with replacement\n",
    "    target_sample = target.sample(500, replace=True, random_state=state)\n",
    "    predictions_sample = predictions[target_sample.index]\n",
    "    \n",
    "    # Profit calculation, here you can call a function\n",
    "    profit_values.append(calculate_profit2(target_sample, predictions_sample))\n",
    "    # you can also calculate revenue right here\n",
    "    \n",
    "    \n",
    "profit_values = pd.Series(profit_values) \n",
    "\n",
    "# Now, outside the loop, we estimate profit and risk.\n",
    "mean_profit = profit_values.mean()\n",
    "\n",
    "# You can also use quantile.\n",
    "confidence_interval = np.percentile(profit_values, [2.5, 97.5]).round(2)\n",
    "risk = (profit_values < 0).mean()\n",
    "\n",
    "\n",
    "print(\"Mean profit: \", mean_profit)\n",
    "print(\"95% confidence interval:\", confidence_interval)\n",
    "print(f\"Risk of Loss: {risk*100:.2f}%\")"
   ]
  },
  {
   "cell_type": "code",
   "execution_count": 52,
   "metadata": {},
   "outputs": [
    {
     "name": "stdout",
     "output_type": "stream",
     "text": [
      "Most Promising Region:\n",
      "{'Region': 3, 'Mean Profit': 154.99936882785283, 'Std Profit': 892.0264488208278, 'Min Profit': -2334.9735429590182, 'Max Profit': 2924.59420258392, '95% CI Lower': -1568.8765668028063, '95% CI Upper': 1881.7355874859009, 'Mean Risk': 0.446}\n"
     ]
    }
   ],
   "source": [
    "# Choose the most promising region based on mean profit and low risk\n",
    "best_region = max(Region_results, key=lambda x: x['Mean Profit'])\n",
    "print(\"Most Promising Region:\")\n",
    "print(best_region)"
   ]
  },
  {
   "cell_type": "markdown",
   "metadata": {},
   "source": [
    "```markdown\n",
    "In conclusion, Region 3 appears to be the most profitable with a mean profit of 154.999 while Region 1 has the highest standard deviation in profit. Region 2, on the other hand, has the lowest risk level with a mean risk of 0.423. It is important to carefully consider both profit and risk when determining the most optimal region for investment...\n",
    "```"
   ]
  },
  {
   "cell_type": "markdown",
   "metadata": {},
   "source": []
  },
  {
   "cell_type": "code",
   "execution_count": 53,
   "metadata": {},
   "outputs": [
    {
     "name": "stdout",
     "output_type": "stream",
     "text": [
      "Region 1 - Mean Profit: -120.53516582597746, Std Profit: 861.8879378027266\n",
      "95% Confidence Interval: (-1836.0671697394876, 1497.3954294130747)\n",
      "Mean Risk of Losses: 0.544\n",
      "----\n",
      "Region 2 - Mean Profit: 3.9228524056992375, Std Profit: 19.244998158066927\n",
      "95% Confidence Interval: (-33.699754961523034, 40.67892851302768)\n",
      "Mean Risk of Losses: 0.423\n",
      "----\n",
      "Region 3 - Mean Profit: 154.99936882785283, Std Profit: 892.0264488208278\n",
      "95% Confidence Interval: (-1568.8765668028063, 1881.7355874859009)\n",
      "Mean Risk of Losses: 0.446\n",
      "----\n"
     ]
    }
   ],
   "source": [
    "for region in Region_results:\n",
    "    print(f\"Region {region['Region']} - Mean Profit: {region['Mean Profit']}, Std Profit: {region['Std Profit']}\")\n",
    "    print(f\"95% Confidence Interval: ({region['95% CI Lower']}, {region['95% CI Upper']})\")\n",
    "    print(f\"Mean Risk of Losses: {region['Mean Risk']}\")\n",
    "    print(\"----\")"
   ]
  },
  {
   "cell_type": "markdown",
   "metadata": {},
   "source": [
    "## conclusion\n",
    "\n",
    "```markdown\n",
    "Overall, the results from the analysis of the three regions provide a detailed insight into the profitability and risk factors associated with each region. \n",
    "\n",
    "Region 1 has a negative mean profit, indicating that on average, companies operating in this region are experiencing losses. The wide standard deviation in profit values suggests high variability in the profitability of companies in this region. The 95% confidence interval for profit includes both positive and negative values, further emphasizing the uncertainty and risk associated with investing in Region 1. The high risk of losses, at 0.544, indicates that companies in this region are more likely to experience negative financial outcomes. Additionally, Region 1 has a relatively high RMSE value and average number of products, indicating potential challenges in predicting and managing profitability in this region.\n",
    "\n",
    "On the other hand, Region 2 and Region 3 show positive mean profits, with Region 3 having the highest mean profit among the three regions. Both regions also have lower standard deviations in profit compared to Region 1, suggesting more consistent profitability. The 95% confidence intervals for profit in both regions are narrower, indicating more certainty in profit levels. Additionally, the risks of losses in Region 2 and Region 3 are lower compared to Region 1, at 0.423 and 0.446 respectively. The RMSE values and average number of products in Region 2 and Region 3 are also relatively lower compared to Region 1, indicating better predictability and management of profitability in these regions.\n",
    "\n",
    "In terms of production volumes, all three regions have an average volume that is lower than the break-even oil volume of 111.11, suggesting room for growth and increased production to improve profitability. Region 1 has the highest profit among the regions, despite having the lowest average volume. This could indicate potential opportunities for optimization and growth in this region. \n",
    "\n",
    "In conclusion, while Region 1 presents higher risks and challenges in terms of profitability and predictability, Regions 2 and 3 show more stable and positive financial outcomes. Companies looking to invest in these regions should consider factors such as profitability, risk of losses, production volumes, and potential for growth before making investment decisions..\n",
    "```"
   ]
  }
 ],
 "metadata": {
  "ExecuteTimeLog": [
   {
    "duration": 5341,
    "start_time": "2024-08-02T00:26:02.678Z"
   },
   {
    "duration": 3207,
    "start_time": "2024-08-02T00:28:07.540Z"
   },
   {
    "duration": 26,
    "start_time": "2024-08-02T00:28:26.464Z"
   },
   {
    "duration": 22,
    "start_time": "2024-08-02T00:28:39.529Z"
   },
   {
    "duration": 21,
    "start_time": "2024-08-02T00:28:51.953Z"
   },
   {
    "duration": 21,
    "start_time": "2024-08-02T00:29:16.369Z"
   },
   {
    "duration": 21,
    "start_time": "2024-08-02T00:29:27.728Z"
   },
   {
    "duration": 13,
    "start_time": "2024-08-02T00:29:55.251Z"
   },
   {
    "duration": 161,
    "start_time": "2024-08-02T00:30:06.367Z"
   },
   {
    "duration": 668,
    "start_time": "2024-08-02T00:31:00.282Z"
   },
   {
    "duration": 157,
    "start_time": "2024-08-02T00:31:14.938Z"
   },
   {
    "duration": 165,
    "start_time": "2024-08-02T00:31:23.030Z"
   },
   {
    "duration": 164,
    "start_time": "2024-08-02T00:31:48.735Z"
   },
   {
    "duration": 7,
    "start_time": "2024-08-02T00:32:43.913Z"
   },
   {
    "duration": 8,
    "start_time": "2024-08-02T00:33:03.671Z"
   },
   {
    "duration": 19,
    "start_time": "2024-08-02T01:08:04.215Z"
   },
   {
    "duration": 15,
    "start_time": "2024-08-02T01:08:08.134Z"
   },
   {
    "duration": 12,
    "start_time": "2024-08-02T01:08:10.623Z"
   },
   {
    "duration": 162,
    "start_time": "2024-08-02T01:08:11.691Z"
   },
   {
    "duration": 10,
    "start_time": "2024-08-02T01:08:54.420Z"
   },
   {
    "duration": 24,
    "start_time": "2024-08-02T01:13:40.253Z"
   },
   {
    "duration": 4,
    "start_time": "2024-08-02T01:13:53.316Z"
   },
   {
    "duration": 5523,
    "start_time": "2024-08-02T01:13:56.035Z"
   },
   {
    "duration": 18,
    "start_time": "2024-08-02T01:14:01.561Z"
   },
   {
    "duration": 19,
    "start_time": "2024-08-02T01:14:03.623Z"
   },
   {
    "duration": 19,
    "start_time": "2024-08-02T01:14:05.839Z"
   },
   {
    "duration": 22,
    "start_time": "2024-08-02T01:14:08.509Z"
   },
   {
    "duration": 19,
    "start_time": "2024-08-02T01:14:09.232Z"
   },
   {
    "duration": 20,
    "start_time": "2024-08-02T01:14:09.967Z"
   },
   {
    "duration": 19,
    "start_time": "2024-08-02T01:14:10.897Z"
   },
   {
    "duration": 34,
    "start_time": "2024-08-02T01:14:12.513Z"
   },
   {
    "duration": 17,
    "start_time": "2024-08-02T01:14:14.401Z"
   },
   {
    "duration": 13,
    "start_time": "2024-08-02T01:16:15.289Z"
   },
   {
    "duration": 9,
    "start_time": "2024-08-02T01:16:15.848Z"
   },
   {
    "duration": 13,
    "start_time": "2024-08-02T01:16:16.340Z"
   },
   {
    "duration": 187,
    "start_time": "2024-08-02T01:18:32.284Z"
   },
   {
    "duration": 165,
    "start_time": "2024-08-02T01:18:33.299Z"
   },
   {
    "duration": 152,
    "start_time": "2024-08-02T01:18:34.537Z"
   },
   {
    "duration": 7,
    "start_time": "2024-08-02T01:19:33.344Z"
   },
   {
    "duration": 7,
    "start_time": "2024-08-02T01:21:24.229Z"
   },
   {
    "duration": 8,
    "start_time": "2024-08-02T01:22:18.780Z"
   },
   {
    "duration": 6,
    "start_time": "2024-08-02T01:23:40.015Z"
   },
   {
    "duration": 4911,
    "start_time": "2024-08-02T17:35:49.538Z"
   },
   {
    "duration": 2960,
    "start_time": "2024-08-02T17:35:54.453Z"
   },
   {
    "duration": 23,
    "start_time": "2024-08-02T17:35:57.416Z"
   },
   {
    "duration": 18,
    "start_time": "2024-08-02T17:36:01.250Z"
   },
   {
    "duration": 18,
    "start_time": "2024-08-02T17:36:02.172Z"
   },
   {
    "duration": 18,
    "start_time": "2024-08-02T17:36:04.839Z"
   },
   {
    "duration": 18,
    "start_time": "2024-08-02T17:36:07.385Z"
   },
   {
    "duration": 19,
    "start_time": "2024-08-02T17:36:07.802Z"
   },
   {
    "duration": 19,
    "start_time": "2024-08-02T17:36:08.613Z"
   },
   {
    "duration": 15,
    "start_time": "2024-08-02T17:36:09.338Z"
   },
   {
    "duration": 15,
    "start_time": "2024-08-02T17:36:09.884Z"
   },
   {
    "duration": 10,
    "start_time": "2024-08-02T17:36:11.533Z"
   },
   {
    "duration": 8,
    "start_time": "2024-08-02T17:36:12.230Z"
   },
   {
    "duration": 6,
    "start_time": "2024-08-02T17:36:12.806Z"
   },
   {
    "duration": 189,
    "start_time": "2024-08-02T17:36:13.653Z"
   },
   {
    "duration": 186,
    "start_time": "2024-08-02T17:36:14.824Z"
   },
   {
    "duration": 184,
    "start_time": "2024-08-02T17:36:18.617Z"
   },
   {
    "duration": 9,
    "start_time": "2024-08-02T17:36:20.122Z"
   },
   {
    "duration": 8,
    "start_time": "2024-08-02T17:36:25.284Z"
   },
   {
    "duration": 9,
    "start_time": "2024-08-02T17:36:26.995Z"
   },
   {
    "duration": 5,
    "start_time": "2024-08-02T17:36:30.227Z"
   },
   {
    "duration": 5,
    "start_time": "2024-08-02T17:36:31.203Z"
   },
   {
    "duration": 6,
    "start_time": "2024-08-02T17:36:56.061Z"
   },
   {
    "duration": 402,
    "start_time": "2024-08-02T17:37:22.699Z"
   },
   {
    "duration": 16,
    "start_time": "2024-08-02T17:38:19.546Z"
   },
   {
    "duration": 7,
    "start_time": "2024-08-02T17:40:16.325Z"
   },
   {
    "duration": 8,
    "start_time": "2024-08-02T17:40:17.847Z"
   },
   {
    "duration": 7,
    "start_time": "2024-08-02T17:41:07.618Z"
   },
   {
    "duration": 34,
    "start_time": "2024-08-02T17:59:31.120Z"
   },
   {
    "duration": 12,
    "start_time": "2024-08-02T17:59:45.422Z"
   },
   {
    "duration": 12,
    "start_time": "2024-08-02T18:00:57.521Z"
   },
   {
    "duration": 12,
    "start_time": "2024-08-02T18:01:57.455Z"
   },
   {
    "duration": 14,
    "start_time": "2024-08-02T18:07:22.649Z"
   },
   {
    "duration": 13,
    "start_time": "2024-08-02T18:11:40.040Z"
   },
   {
    "duration": 13,
    "start_time": "2024-08-02T18:13:13.032Z"
   },
   {
    "duration": 5230,
    "start_time": "2024-08-04T19:09:12.420Z"
   },
   {
    "duration": 4978,
    "start_time": "2024-08-04T19:09:20.220Z"
   },
   {
    "duration": 21,
    "start_time": "2024-08-04T19:09:25.201Z"
   },
   {
    "duration": 19,
    "start_time": "2024-08-04T19:09:28.219Z"
   },
   {
    "duration": 19,
    "start_time": "2024-08-04T19:09:29.255Z"
   },
   {
    "duration": 21,
    "start_time": "2024-08-04T19:09:32.795Z"
   },
   {
    "duration": 20,
    "start_time": "2024-08-04T19:09:34.149Z"
   },
   {
    "duration": 21,
    "start_time": "2024-08-04T19:09:34.788Z"
   },
   {
    "duration": 21,
    "start_time": "2024-08-04T19:09:36.400Z"
   },
   {
    "duration": 17,
    "start_time": "2024-08-04T19:09:37.437Z"
   },
   {
    "duration": 17,
    "start_time": "2024-08-04T19:09:38.215Z"
   },
   {
    "duration": 11,
    "start_time": "2024-08-04T19:09:41.432Z"
   },
   {
    "duration": 12,
    "start_time": "2024-08-04T19:09:42.229Z"
   },
   {
    "duration": 7,
    "start_time": "2024-08-04T19:09:42.862Z"
   },
   {
    "duration": 175,
    "start_time": "2024-08-04T19:09:45.128Z"
   },
   {
    "duration": 177,
    "start_time": "2024-08-04T19:09:46.382Z"
   },
   {
    "duration": 179,
    "start_time": "2024-08-04T19:09:47.345Z"
   },
   {
    "duration": 7,
    "start_time": "2024-08-04T19:09:53.265Z"
   },
   {
    "duration": 9,
    "start_time": "2024-08-04T19:09:55.958Z"
   },
   {
    "duration": 8,
    "start_time": "2024-08-04T19:09:57.721Z"
   },
   {
    "duration": 4,
    "start_time": "2024-08-04T19:10:00.418Z"
   },
   {
    "duration": 5,
    "start_time": "2024-08-04T19:10:01.544Z"
   },
   {
    "duration": 16,
    "start_time": "2024-08-04T19:10:02.383Z"
   },
   {
    "duration": 9,
    "start_time": "2024-08-04T19:10:03.022Z"
   },
   {
    "duration": 9,
    "start_time": "2024-08-04T19:10:03.647Z"
   },
   {
    "duration": 14,
    "start_time": "2024-08-04T19:10:04.520Z"
   },
   {
    "duration": 14,
    "start_time": "2024-08-04T19:10:04.962Z"
   },
   {
    "duration": 12,
    "start_time": "2024-08-04T19:10:05.356Z"
   },
   {
    "duration": 14,
    "start_time": "2024-08-04T19:10:05.793Z"
   },
   {
    "duration": 13,
    "start_time": "2024-08-04T19:10:06.224Z"
   },
   {
    "duration": 16,
    "start_time": "2024-08-04T19:10:06.700Z"
   },
   {
    "duration": 30,
    "start_time": "2024-08-04T19:10:08.207Z"
   },
   {
    "duration": 57,
    "start_time": "2024-08-04T19:10:39.282Z"
   },
   {
    "duration": 318,
    "start_time": "2024-08-04T20:32:42.434Z"
   },
   {
    "duration": 4933,
    "start_time": "2024-08-04T20:32:50.447Z"
   },
   {
    "duration": 4,
    "start_time": "2024-08-04T20:33:05.442Z"
   },
   {
    "duration": 2968,
    "start_time": "2024-08-04T20:33:05.450Z"
   },
   {
    "duration": 20,
    "start_time": "2024-08-04T20:33:08.424Z"
   },
   {
    "duration": 18,
    "start_time": "2024-08-04T20:33:08.448Z"
   },
   {
    "duration": 55,
    "start_time": "2024-08-04T20:33:08.469Z"
   },
   {
    "duration": 19,
    "start_time": "2024-08-04T20:33:08.527Z"
   },
   {
    "duration": 20,
    "start_time": "2024-08-04T20:33:08.549Z"
   },
   {
    "duration": 51,
    "start_time": "2024-08-04T20:33:08.571Z"
   },
   {
    "duration": 18,
    "start_time": "2024-08-04T20:33:08.624Z"
   },
   {
    "duration": 14,
    "start_time": "2024-08-04T20:33:08.650Z"
   },
   {
    "duration": 15,
    "start_time": "2024-08-04T20:33:08.668Z"
   },
   {
    "duration": 50,
    "start_time": "2024-08-04T20:33:08.685Z"
   },
   {
    "duration": 85,
    "start_time": "2024-08-04T20:33:08.739Z"
   },
   {
    "duration": 14,
    "start_time": "2024-08-04T20:33:08.829Z"
   },
   {
    "duration": 307,
    "start_time": "2024-08-04T20:33:08.848Z"
   },
   {
    "duration": 152,
    "start_time": "2024-08-04T20:33:09.159Z"
   },
   {
    "duration": 162,
    "start_time": "2024-08-04T20:33:09.314Z"
   },
   {
    "duration": 8,
    "start_time": "2024-08-04T20:33:09.478Z"
   },
   {
    "duration": 7,
    "start_time": "2024-08-04T20:33:09.489Z"
   },
   {
    "duration": 7,
    "start_time": "2024-08-04T20:33:09.499Z"
   },
   {
    "duration": 4,
    "start_time": "2024-08-04T20:33:09.509Z"
   },
   {
    "duration": 5,
    "start_time": "2024-08-04T20:33:09.523Z"
   },
   {
    "duration": 9,
    "start_time": "2024-08-04T20:33:09.531Z"
   },
   {
    "duration": 8,
    "start_time": "2024-08-04T20:33:09.544Z"
   },
   {
    "duration": 8,
    "start_time": "2024-08-04T20:33:09.557Z"
   },
   {
    "duration": 59,
    "start_time": "2024-08-04T20:33:09.568Z"
   },
   {
    "duration": 13,
    "start_time": "2024-08-04T20:33:09.630Z"
   },
   {
    "duration": 13,
    "start_time": "2024-08-04T20:33:09.650Z"
   },
   {
    "duration": 14,
    "start_time": "2024-08-04T20:33:09.665Z"
   },
   {
    "duration": 15,
    "start_time": "2024-08-04T20:33:09.724Z"
   },
   {
    "duration": 15,
    "start_time": "2024-08-04T20:33:09.742Z"
   },
   {
    "duration": 77,
    "start_time": "2024-08-04T20:33:09.760Z"
   },
   {
    "duration": 35,
    "start_time": "2024-08-04T20:33:09.840Z"
   },
   {
    "duration": 4894,
    "start_time": "2024-08-04T21:20:31.077Z"
   },
   {
    "duration": 3117,
    "start_time": "2024-08-04T21:20:35.975Z"
   },
   {
    "duration": 20,
    "start_time": "2024-08-04T21:20:39.095Z"
   },
   {
    "duration": 22,
    "start_time": "2024-08-04T21:20:39.132Z"
   },
   {
    "duration": 23,
    "start_time": "2024-08-04T21:20:39.157Z"
   },
   {
    "duration": 56,
    "start_time": "2024-08-04T21:20:39.184Z"
   },
   {
    "duration": 18,
    "start_time": "2024-08-04T21:20:39.243Z"
   },
   {
    "duration": 20,
    "start_time": "2024-08-04T21:20:39.264Z"
   },
   {
    "duration": 47,
    "start_time": "2024-08-04T21:20:39.287Z"
   },
   {
    "duration": 13,
    "start_time": "2024-08-04T21:20:39.340Z"
   },
   {
    "duration": 15,
    "start_time": "2024-08-04T21:20:39.357Z"
   },
   {
    "duration": 60,
    "start_time": "2024-08-04T21:20:39.374Z"
   },
   {
    "duration": 12,
    "start_time": "2024-08-04T21:20:39.436Z"
   },
   {
    "duration": 83,
    "start_time": "2024-08-04T21:20:39.450Z"
   },
   {
    "duration": 252,
    "start_time": "2024-08-04T21:20:39.536Z"
   },
   {
    "duration": 151,
    "start_time": "2024-08-04T21:20:39.791Z"
   },
   {
    "duration": 161,
    "start_time": "2024-08-04T21:20:39.945Z"
   },
   {
    "duration": 10,
    "start_time": "2024-08-04T21:20:40.109Z"
   },
   {
    "duration": 7,
    "start_time": "2024-08-04T21:20:40.123Z"
   },
   {
    "duration": 7,
    "start_time": "2024-08-04T21:20:40.133Z"
   },
   {
    "duration": 4,
    "start_time": "2024-08-04T21:20:40.143Z"
   },
   {
    "duration": 5,
    "start_time": "2024-08-04T21:20:40.150Z"
   },
   {
    "duration": 9,
    "start_time": "2024-08-04T21:20:40.158Z"
   },
   {
    "duration": 8,
    "start_time": "2024-08-04T21:20:40.169Z"
   },
   {
    "duration": 57,
    "start_time": "2024-08-04T21:20:40.180Z"
   },
   {
    "duration": 13,
    "start_time": "2024-08-04T21:20:40.241Z"
   },
   {
    "duration": 13,
    "start_time": "2024-08-04T21:20:40.258Z"
   },
   {
    "duration": 11,
    "start_time": "2024-08-04T21:20:40.277Z"
   },
   {
    "duration": 13,
    "start_time": "2024-08-04T21:20:40.333Z"
   },
   {
    "duration": 13,
    "start_time": "2024-08-04T21:20:40.349Z"
   },
   {
    "duration": 13,
    "start_time": "2024-08-04T21:20:40.365Z"
   },
   {
    "duration": 93,
    "start_time": "2024-08-04T21:20:40.381Z"
   },
   {
    "duration": 34,
    "start_time": "2024-08-04T21:20:40.478Z"
   },
   {
    "duration": 46,
    "start_time": "2024-08-04T21:21:32.429Z"
   },
   {
    "duration": 426,
    "start_time": "2024-08-04T21:22:53.087Z"
   },
   {
    "duration": 6,
    "start_time": "2024-08-04T21:23:23.313Z"
   },
   {
    "duration": 6,
    "start_time": "2024-08-04T21:23:53.213Z"
   },
   {
    "duration": 5,
    "start_time": "2024-08-04T21:24:18.131Z"
   },
   {
    "duration": 4,
    "start_time": "2024-08-04T21:53:51.190Z"
   },
   {
    "duration": 4,
    "start_time": "2024-08-04T21:54:21.550Z"
   },
   {
    "duration": 4,
    "start_time": "2024-08-04T21:54:55.125Z"
   },
   {
    "duration": 8,
    "start_time": "2024-08-04T21:59:05.887Z"
   },
   {
    "duration": 8,
    "start_time": "2024-08-04T21:59:07.878Z"
   },
   {
    "duration": 8,
    "start_time": "2024-08-04T21:59:08.660Z"
   },
   {
    "duration": 5,
    "start_time": "2024-08-04T21:59:46.426Z"
   },
   {
    "duration": 5,
    "start_time": "2024-08-04T21:59:48.353Z"
   },
   {
    "duration": 5,
    "start_time": "2024-08-04T21:59:52.446Z"
   },
   {
    "duration": 5,
    "start_time": "2024-08-04T22:00:24.725Z"
   },
   {
    "duration": 4,
    "start_time": "2024-08-04T22:24:15.422Z"
   },
   {
    "duration": 5,
    "start_time": "2024-08-04T22:25:18.320Z"
   },
   {
    "duration": 4,
    "start_time": "2024-08-04T22:25:40.237Z"
   },
   {
    "duration": 33,
    "start_time": "2024-08-04T22:28:01.528Z"
   },
   {
    "duration": 238,
    "start_time": "2024-08-04T22:28:56.363Z"
   },
   {
    "duration": 230,
    "start_time": "2024-08-04T22:31:39.812Z"
   },
   {
    "duration": 505,
    "start_time": "2024-08-04T22:33:38.924Z"
   },
   {
    "duration": 551,
    "start_time": "2024-08-04T22:34:10.849Z"
   },
   {
    "duration": 499,
    "start_time": "2024-08-04T22:36:35.599Z"
   },
   {
    "duration": 506,
    "start_time": "2024-08-04T22:37:21.308Z"
   },
   {
    "duration": 544,
    "start_time": "2024-08-04T22:38:30.880Z"
   },
   {
    "duration": 515,
    "start_time": "2024-08-04T22:38:35.567Z"
   },
   {
    "duration": 510,
    "start_time": "2024-08-04T22:40:03.151Z"
   },
   {
    "duration": 505,
    "start_time": "2024-08-04T22:43:03.852Z"
   },
   {
    "duration": 541,
    "start_time": "2024-08-04T22:43:12.810Z"
   },
   {
    "duration": 464,
    "start_time": "2024-08-04T22:47:25.451Z"
   },
   {
    "duration": 478,
    "start_time": "2024-08-04T22:47:43.238Z"
   },
   {
    "duration": 472,
    "start_time": "2024-08-04T22:48:35.819Z"
   },
   {
    "duration": 558,
    "start_time": "2024-08-04T22:49:25.795Z"
   },
   {
    "duration": 487,
    "start_time": "2024-08-04T22:50:27.455Z"
   },
   {
    "duration": 258,
    "start_time": "2024-08-04T22:50:57.530Z"
   },
   {
    "duration": 463,
    "start_time": "2024-08-04T22:51:09.523Z"
   },
   {
    "duration": 471,
    "start_time": "2024-08-04T22:51:48.464Z"
   },
   {
    "duration": 513,
    "start_time": "2024-08-04T22:52:01.578Z"
   },
   {
    "duration": 486,
    "start_time": "2024-08-04T22:52:21.503Z"
   },
   {
    "duration": 514,
    "start_time": "2024-08-04T22:53:34.939Z"
   },
   {
    "duration": 3,
    "start_time": "2024-08-04T22:56:13.221Z"
   },
   {
    "duration": 3,
    "start_time": "2024-08-04T22:56:16.671Z"
   },
   {
    "duration": 6,
    "start_time": "2024-08-04T22:56:38.973Z"
   },
   {
    "duration": 6,
    "start_time": "2024-08-04T22:57:17.984Z"
   },
   {
    "duration": 5,
    "start_time": "2024-08-04T22:57:57.379Z"
   },
   {
    "duration": 7,
    "start_time": "2024-08-04T22:59:36.653Z"
   },
   {
    "duration": 7,
    "start_time": "2024-08-04T23:00:35.237Z"
   },
   {
    "duration": 7,
    "start_time": "2024-08-04T23:01:04.554Z"
   },
   {
    "duration": 6,
    "start_time": "2024-08-04T23:02:57.039Z"
   },
   {
    "duration": 6,
    "start_time": "2024-08-04T23:04:22.508Z"
   },
   {
    "duration": 5,
    "start_time": "2024-08-04T23:05:05.314Z"
   },
   {
    "duration": 4,
    "start_time": "2024-08-04T23:06:01.323Z"
   },
   {
    "duration": 4,
    "start_time": "2024-08-04T23:06:27.421Z"
   },
   {
    "duration": 5019,
    "start_time": "2024-08-05T05:46:36.827Z"
   },
   {
    "duration": 3039,
    "start_time": "2024-08-05T05:46:41.850Z"
   },
   {
    "duration": 29,
    "start_time": "2024-08-05T05:46:44.893Z"
   },
   {
    "duration": 19,
    "start_time": "2024-08-05T05:46:44.924Z"
   },
   {
    "duration": 20,
    "start_time": "2024-08-05T05:46:44.948Z"
   },
   {
    "duration": 56,
    "start_time": "2024-08-05T05:46:44.972Z"
   },
   {
    "duration": 19,
    "start_time": "2024-08-05T05:46:45.031Z"
   },
   {
    "duration": 20,
    "start_time": "2024-08-05T05:46:45.053Z"
   },
   {
    "duration": 48,
    "start_time": "2024-08-05T05:46:45.075Z"
   },
   {
    "duration": 15,
    "start_time": "2024-08-05T05:46:45.126Z"
   },
   {
    "duration": 14,
    "start_time": "2024-08-05T05:46:45.144Z"
   },
   {
    "duration": 57,
    "start_time": "2024-08-05T05:46:45.161Z"
   },
   {
    "duration": 10,
    "start_time": "2024-08-05T05:46:45.223Z"
   },
   {
    "duration": 9,
    "start_time": "2024-08-05T05:46:45.314Z"
   },
   {
    "duration": 296,
    "start_time": "2024-08-05T05:46:45.327Z"
   },
   {
    "duration": 138,
    "start_time": "2024-08-05T05:46:45.625Z"
   },
   {
    "duration": 145,
    "start_time": "2024-08-05T05:46:45.765Z"
   },
   {
    "duration": 7,
    "start_time": "2024-08-05T05:46:45.913Z"
   },
   {
    "duration": 8,
    "start_time": "2024-08-05T05:46:45.923Z"
   },
   {
    "duration": 6,
    "start_time": "2024-08-05T05:46:45.934Z"
   },
   {
    "duration": 4,
    "start_time": "2024-08-05T05:46:45.944Z"
   },
   {
    "duration": 6,
    "start_time": "2024-08-05T05:46:45.951Z"
   },
   {
    "duration": 116,
    "start_time": "2024-08-05T05:46:45.960Z"
   },
   {
    "duration": 9,
    "start_time": "2024-08-05T05:46:46.079Z"
   },
   {
    "duration": 7,
    "start_time": "2024-08-05T05:46:46.091Z"
   },
   {
    "duration": 12,
    "start_time": "2024-08-05T05:46:46.102Z"
   },
   {
    "duration": 13,
    "start_time": "2024-08-05T05:46:46.117Z"
   },
   {
    "duration": 13,
    "start_time": "2024-08-05T05:46:46.132Z"
   },
   {
    "duration": 15,
    "start_time": "2024-08-05T05:46:46.147Z"
   },
   {
    "duration": 49,
    "start_time": "2024-08-05T05:46:46.164Z"
   },
   {
    "duration": 14,
    "start_time": "2024-08-05T05:46:46.216Z"
   },
   {
    "duration": 43,
    "start_time": "2024-08-05T05:46:46.233Z"
   },
   {
    "duration": 59,
    "start_time": "2024-08-05T05:46:46.279Z"
   },
   {
    "duration": 43,
    "start_time": "2024-08-05T05:46:46.341Z"
   },
   {
    "duration": 28,
    "start_time": "2024-08-05T05:46:46.386Z"
   },
   {
    "duration": 5,
    "start_time": "2024-08-05T05:46:46.418Z"
   },
   {
    "duration": 5,
    "start_time": "2024-08-05T05:46:46.427Z"
   },
   {
    "duration": 4,
    "start_time": "2024-08-05T05:46:46.436Z"
   },
   {
    "duration": 5,
    "start_time": "2024-08-05T05:46:46.443Z"
   },
   {
    "duration": 61,
    "start_time": "2024-08-05T05:46:46.451Z"
   },
   {
    "duration": 5,
    "start_time": "2024-08-05T05:46:46.520Z"
   },
   {
    "duration": 5,
    "start_time": "2024-08-05T05:46:46.528Z"
   },
   {
    "duration": 5,
    "start_time": "2024-08-05T05:46:46.537Z"
   },
   {
    "duration": 66,
    "start_time": "2024-08-05T05:46:46.546Z"
   },
   {
    "duration": 5049,
    "start_time": "2024-08-14T02:37:07.105Z"
   },
   {
    "duration": 5,
    "start_time": "2024-08-14T02:37:23.479Z"
   },
   {
    "duration": 2870,
    "start_time": "2024-08-14T02:37:27.553Z"
   },
   {
    "duration": 15,
    "start_time": "2024-08-14T02:37:31.647Z"
   },
   {
    "duration": 4,
    "start_time": "2024-08-14T02:37:36.962Z"
   },
   {
    "duration": 5,
    "start_time": "2024-08-14T02:37:40.420Z"
   },
   {
    "duration": 3,
    "start_time": "2024-08-14T02:37:42.092Z"
   },
   {
    "duration": 136,
    "start_time": "2024-08-14T02:37:43.998Z"
   },
   {
    "duration": 3,
    "start_time": "2024-08-14T02:37:47.059Z"
   },
   {
    "duration": 7,
    "start_time": "2024-08-14T02:37:47.778Z"
   },
   {
    "duration": 5,
    "start_time": "2024-08-14T02:37:51.177Z"
   },
   {
    "duration": 5,
    "start_time": "2024-08-14T02:37:53.491Z"
   },
   {
    "duration": 386,
    "start_time": "2024-08-14T02:37:54.388Z"
   },
   {
    "duration": 5,
    "start_time": "2024-08-14T02:38:08.525Z"
   },
   {
    "duration": 3,
    "start_time": "2024-08-14T02:38:09.920Z"
   },
   {
    "duration": 6,
    "start_time": "2024-08-14T02:38:11.256Z"
   },
   {
    "duration": 5146,
    "start_time": "2024-08-15T03:13:49.291Z"
   },
   {
    "duration": 3248,
    "start_time": "2024-08-15T03:13:57.170Z"
   },
   {
    "duration": 19,
    "start_time": "2024-08-15T03:14:04.272Z"
   },
   {
    "duration": 31,
    "start_time": "2024-08-15T03:16:38.381Z"
   },
   {
    "duration": 29,
    "start_time": "2024-08-15T03:18:24.423Z"
   },
   {
    "duration": 35,
    "start_time": "2024-08-15T03:18:27.324Z"
   },
   {
    "duration": 30,
    "start_time": "2024-08-15T03:18:55.710Z"
   },
   {
    "duration": 7,
    "start_time": "2024-08-15T03:22:19.545Z"
   },
   {
    "duration": 31,
    "start_time": "2024-08-15T03:25:45.423Z"
   },
   {
    "duration": 15,
    "start_time": "2024-08-15T03:26:04.402Z"
   },
   {
    "duration": 6,
    "start_time": "2024-08-15T03:27:40.885Z"
   },
   {
    "duration": 6,
    "start_time": "2024-08-15T03:37:19.088Z"
   },
   {
    "duration": 866,
    "start_time": "2024-08-15T03:37:52.049Z"
   },
   {
    "duration": 5,
    "start_time": "2024-08-15T03:38:19.604Z"
   },
   {
    "duration": 3113,
    "start_time": "2024-08-15T03:38:20.208Z"
   },
   {
    "duration": 19,
    "start_time": "2024-08-15T03:38:23.324Z"
   },
   {
    "duration": 5,
    "start_time": "2024-08-15T03:38:23.347Z"
   },
   {
    "duration": 30,
    "start_time": "2024-08-15T03:38:24.949Z"
   },
   {
    "duration": 31,
    "start_time": "2024-08-15T03:38:26.817Z"
   },
   {
    "duration": 33,
    "start_time": "2024-08-15T03:38:27.428Z"
   },
   {
    "duration": 81,
    "start_time": "2024-08-15T03:38:28.599Z"
   },
   {
    "duration": 6,
    "start_time": "2024-08-15T03:38:39.190Z"
   },
   {
    "duration": 8,
    "start_time": "2024-08-15T03:38:51.087Z"
   },
   {
    "duration": 6,
    "start_time": "2024-08-15T03:39:11.750Z"
   },
   {
    "duration": 79,
    "start_time": "2024-08-15T03:39:53.666Z"
   },
   {
    "duration": 6,
    "start_time": "2024-08-15T03:39:54.537Z"
   },
   {
    "duration": 5,
    "start_time": "2024-08-15T03:39:55.330Z"
   },
   {
    "duration": 6,
    "start_time": "2024-08-15T03:39:56.421Z"
   },
   {
    "duration": 15,
    "start_time": "2024-08-15T03:46:31.124Z"
   },
   {
    "duration": 5,
    "start_time": "2024-08-15T03:46:35.310Z"
   },
   {
    "duration": 7,
    "start_time": "2024-08-15T03:46:45.006Z"
   },
   {
    "duration": 4,
    "start_time": "2024-08-15T03:46:51.356Z"
   },
   {
    "duration": 145,
    "start_time": "2024-08-15T03:47:10.274Z"
   },
   {
    "duration": 3,
    "start_time": "2024-08-15T17:33:07.451Z"
   },
   {
    "duration": 6,
    "start_time": "2024-08-15T17:33:10.259Z"
   },
   {
    "duration": 173,
    "start_time": "2024-08-15T17:33:20.858Z"
   },
   {
    "duration": 4,
    "start_time": "2024-08-15T17:33:54.478Z"
   },
   {
    "duration": 6,
    "start_time": "2024-08-15T17:44:24.690Z"
   },
   {
    "duration": 1198,
    "start_time": "2024-08-15T17:44:48.352Z"
   },
   {
    "duration": 6,
    "start_time": "2024-08-15T17:45:03.217Z"
   },
   {
    "duration": 288,
    "start_time": "2024-08-15T17:45:04.505Z"
   },
   {
    "duration": 9,
    "start_time": "2024-08-15T17:45:49.809Z"
   },
   {
    "duration": 7,
    "start_time": "2024-08-15T17:46:04.872Z"
   },
   {
    "duration": 371,
    "start_time": "2024-08-15T17:46:18.137Z"
   },
   {
    "duration": 263,
    "start_time": "2024-08-15T17:46:47.922Z"
   },
   {
    "duration": 7,
    "start_time": "2024-08-15T17:47:25.035Z"
   },
   {
    "duration": 7,
    "start_time": "2024-08-15T17:47:31.929Z"
   },
   {
    "duration": 8,
    "start_time": "2024-08-15T17:47:39.137Z"
   },
   {
    "duration": 298,
    "start_time": "2024-08-15T17:47:45.595Z"
   },
   {
    "duration": 11,
    "start_time": "2024-08-15T17:48:19.449Z"
   },
   {
    "duration": 283,
    "start_time": "2024-08-15T17:48:34.176Z"
   },
   {
    "duration": 589,
    "start_time": "2024-08-15T17:52:01.361Z"
   },
   {
    "duration": 7,
    "start_time": "2024-08-15T17:52:25.919Z"
   },
   {
    "duration": 283,
    "start_time": "2024-08-15T17:53:33.102Z"
   },
   {
    "duration": 6,
    "start_time": "2024-08-15T17:53:48.507Z"
   },
   {
    "duration": 148,
    "start_time": "2024-08-15T17:53:52.168Z"
   },
   {
    "duration": 183,
    "start_time": "2024-08-15T17:54:27.243Z"
   },
   {
    "duration": 4,
    "start_time": "2024-08-15T17:54:28.535Z"
   },
   {
    "duration": 7,
    "start_time": "2024-08-15T17:54:30.113Z"
   },
   {
    "duration": 171,
    "start_time": "2024-08-15T17:54:30.739Z"
   },
   {
    "duration": 6,
    "start_time": "2024-08-15T17:54:51.776Z"
   },
   {
    "duration": 282,
    "start_time": "2024-08-15T17:54:54.101Z"
   },
   {
    "duration": 227,
    "start_time": "2024-08-15T17:57:17.386Z"
   },
   {
    "duration": 104,
    "start_time": "2024-08-15T17:57:56.530Z"
   },
   {
    "duration": 4,
    "start_time": "2024-08-15T17:57:58.578Z"
   },
   {
    "duration": 6,
    "start_time": "2024-08-15T17:57:59.591Z"
   },
   {
    "duration": 219,
    "start_time": "2024-08-15T17:58:02.807Z"
   },
   {
    "duration": 6,
    "start_time": "2024-08-15T17:58:06.653Z"
   },
   {
    "duration": 191,
    "start_time": "2024-08-15T17:58:14.122Z"
   },
   {
    "duration": 378,
    "start_time": "2024-08-15T18:00:52.623Z"
   },
   {
    "duration": 6,
    "start_time": "2024-08-15T18:03:30.997Z"
   },
   {
    "duration": 273,
    "start_time": "2024-08-15T18:03:32.014Z"
   },
   {
    "duration": 7,
    "start_time": "2024-08-15T18:07:56.836Z"
   },
   {
    "duration": 6184,
    "start_time": "2024-08-15T18:08:18.707Z"
   },
   {
    "duration": 6,
    "start_time": "2024-08-15T18:08:49.984Z"
   },
   {
    "duration": 7,
    "start_time": "2024-08-15T18:09:42.958Z"
   },
   {
    "duration": 6459,
    "start_time": "2024-08-15T18:09:44.214Z"
   },
   {
    "duration": 5,
    "start_time": "2024-08-15T18:09:50.676Z"
   },
   {
    "duration": 27,
    "start_time": "2024-08-15T18:12:23.883Z"
   },
   {
    "duration": 31,
    "start_time": "2024-08-15T18:15:29.228Z"
   },
   {
    "duration": 30,
    "start_time": "2024-08-15T18:16:06.488Z"
   },
   {
    "duration": 8,
    "start_time": "2024-08-15T18:16:13.867Z"
   },
   {
    "duration": 6208,
    "start_time": "2024-08-15T18:16:15.149Z"
   },
   {
    "duration": 5,
    "start_time": "2024-08-15T18:16:21.360Z"
   },
   {
    "duration": 48,
    "start_time": "2024-08-15T18:16:21.370Z"
   },
   {
    "duration": 6,
    "start_time": "2024-08-15T18:17:58.686Z"
   },
   {
    "duration": 29,
    "start_time": "2024-08-15T18:18:05.519Z"
   },
   {
    "duration": 204,
    "start_time": "2024-08-15T18:18:27.378Z"
   },
   {
    "duration": 103,
    "start_time": "2024-08-15T18:19:01.342Z"
   },
   {
    "duration": 199,
    "start_time": "2024-08-15T18:21:37.507Z"
   },
   {
    "duration": 27,
    "start_time": "2024-08-15T18:22:31.199Z"
   },
   {
    "duration": 299,
    "start_time": "2024-08-15T18:23:58.880Z"
   },
   {
    "duration": 130,
    "start_time": "2024-08-15T18:25:22.256Z"
   },
   {
    "duration": 44,
    "start_time": "2024-08-15T18:25:44.022Z"
   },
   {
    "duration": 1178,
    "start_time": "2024-08-15T18:26:30.667Z"
   },
   {
    "duration": 256,
    "start_time": "2024-08-15T18:27:32.984Z"
   },
   {
    "duration": 248,
    "start_time": "2024-08-15T18:27:54.051Z"
   },
   {
    "duration": 194,
    "start_time": "2024-08-15T18:27:59.002Z"
   },
   {
    "duration": 270,
    "start_time": "2024-08-15T18:28:45.838Z"
   },
   {
    "duration": 189,
    "start_time": "2024-08-15T18:29:00.302Z"
   },
   {
    "duration": 2081,
    "start_time": "2024-08-15T18:40:51.716Z"
   },
   {
    "duration": 10,
    "start_time": "2024-08-15T18:41:44.636Z"
   },
   {
    "duration": 7,
    "start_time": "2024-08-15T18:41:55.247Z"
   },
   {
    "duration": 6160,
    "start_time": "2024-08-15T18:41:58.300Z"
   },
   {
    "duration": 4,
    "start_time": "2024-08-15T18:42:32.786Z"
   },
   {
    "duration": 5,
    "start_time": "2024-08-15T18:44:10.137Z"
   },
   {
    "duration": 5,
    "start_time": "2024-08-15T18:44:33.884Z"
   },
   {
    "duration": 6,
    "start_time": "2024-08-15T19:00:19.562Z"
   },
   {
    "duration": 14,
    "start_time": "2024-08-16T04:29:59.228Z"
   },
   {
    "duration": 306,
    "start_time": "2024-08-16T04:35:07.220Z"
   },
   {
    "duration": 5146,
    "start_time": "2024-08-16T04:35:11.024Z"
   },
   {
    "duration": 6427,
    "start_time": "2024-08-16T04:35:16.174Z"
   },
   {
    "duration": 21,
    "start_time": "2024-08-16T04:35:22.603Z"
   },
   {
    "duration": 8,
    "start_time": "2024-08-16T04:35:22.633Z"
   },
   {
    "duration": 32,
    "start_time": "2024-08-16T04:35:22.644Z"
   },
   {
    "duration": 59,
    "start_time": "2024-08-16T04:35:22.680Z"
   },
   {
    "duration": 31,
    "start_time": "2024-08-16T04:35:22.742Z"
   },
   {
    "duration": 105,
    "start_time": "2024-08-16T04:35:22.777Z"
   },
   {
    "duration": 6,
    "start_time": "2024-08-16T04:35:22.884Z"
   },
   {
    "duration": 7,
    "start_time": "2024-08-16T04:35:22.896Z"
   },
   {
    "duration": 6,
    "start_time": "2024-08-16T04:35:22.932Z"
   },
   {
    "duration": 16,
    "start_time": "2024-08-16T04:35:22.942Z"
   },
   {
    "duration": 5,
    "start_time": "2024-08-16T04:35:22.962Z"
   },
   {
    "duration": 8,
    "start_time": "2024-08-16T04:35:22.971Z"
   },
   {
    "duration": 5,
    "start_time": "2024-08-16T04:35:22.982Z"
   },
   {
    "duration": 203,
    "start_time": "2024-08-16T04:35:23.030Z"
   },
   {
    "duration": 3,
    "start_time": "2024-08-16T04:35:23.236Z"
   },
   {
    "duration": 9,
    "start_time": "2024-08-16T04:35:23.242Z"
   },
   {
    "duration": 386,
    "start_time": "2024-08-16T04:35:23.254Z"
   },
   {
    "duration": 5,
    "start_time": "2024-08-16T04:35:23.642Z"
   },
   {
    "duration": 89,
    "start_time": "2024-08-16T04:35:23.650Z"
   },
   {
    "duration": 93,
    "start_time": "2024-08-16T04:35:23.741Z"
   },
   {
    "duration": 28,
    "start_time": "2024-08-16T04:37:11.385Z"
   },
   {
    "duration": 4952,
    "start_time": "2024-08-16T19:38:54.446Z"
   },
   {
    "duration": 5532,
    "start_time": "2024-08-16T19:39:01.153Z"
   },
   {
    "duration": 20,
    "start_time": "2024-08-16T19:39:06.689Z"
   },
   {
    "duration": 15,
    "start_time": "2024-08-16T19:39:10.894Z"
   },
   {
    "duration": 33,
    "start_time": "2024-08-16T19:39:23.596Z"
   },
   {
    "duration": 29,
    "start_time": "2024-08-16T19:40:08.051Z"
   },
   {
    "duration": 36,
    "start_time": "2024-08-16T19:40:23.329Z"
   },
   {
    "duration": 28,
    "start_time": "2024-08-16T20:53:41.396Z"
   },
   {
    "duration": 32,
    "start_time": "2024-08-16T21:00:22.881Z"
   },
   {
    "duration": 1109,
    "start_time": "2024-08-16T21:02:32.942Z"
   },
   {
    "duration": 981,
    "start_time": "2024-08-16T21:03:20.540Z"
   },
   {
    "duration": 764,
    "start_time": "2024-08-16T21:05:10.180Z"
   },
   {
    "duration": 778,
    "start_time": "2024-08-16T21:05:51.612Z"
   },
   {
    "duration": 1079,
    "start_time": "2024-08-16T21:06:42.920Z"
   },
   {
    "duration": 955,
    "start_time": "2024-08-16T21:06:59.512Z"
   },
   {
    "duration": 966,
    "start_time": "2024-08-16T21:07:54.811Z"
   },
   {
    "duration": 988,
    "start_time": "2024-08-16T21:08:09.047Z"
   },
   {
    "duration": 1097,
    "start_time": "2024-08-16T21:15:30.407Z"
   },
   {
    "duration": 1008,
    "start_time": "2024-08-16T21:16:05.330Z"
   },
   {
    "duration": 937,
    "start_time": "2024-08-16T21:16:15.962Z"
   },
   {
    "duration": 504,
    "start_time": "2024-08-16T21:26:56.232Z"
   },
   {
    "duration": 4,
    "start_time": "2024-08-16T21:27:08.397Z"
   },
   {
    "duration": 27,
    "start_time": "2024-08-16T21:27:09.604Z"
   },
   {
    "duration": 4,
    "start_time": "2024-08-16T21:27:19.272Z"
   },
   {
    "duration": 3140,
    "start_time": "2024-08-16T21:27:21.115Z"
   },
   {
    "duration": 18,
    "start_time": "2024-08-16T21:27:24.259Z"
   },
   {
    "duration": 6,
    "start_time": "2024-08-16T21:27:24.292Z"
   },
   {
    "duration": 32,
    "start_time": "2024-08-16T21:27:24.302Z"
   },
   {
    "duration": 30,
    "start_time": "2024-08-16T21:27:26.206Z"
   },
   {
    "duration": 34,
    "start_time": "2024-08-16T21:27:26.867Z"
   },
   {
    "duration": 27,
    "start_time": "2024-08-16T21:27:27.575Z"
   },
   {
    "duration": 31,
    "start_time": "2024-08-16T21:27:28.209Z"
   },
   {
    "duration": 28,
    "start_time": "2024-08-16T21:27:28.769Z"
   },
   {
    "duration": 81,
    "start_time": "2024-08-16T21:27:29.484Z"
   },
   {
    "duration": 5,
    "start_time": "2024-08-16T21:27:29.974Z"
   },
   {
    "duration": 5,
    "start_time": "2024-08-16T21:27:30.576Z"
   },
   {
    "duration": 6,
    "start_time": "2024-08-16T21:27:31.101Z"
   },
   {
    "duration": 15,
    "start_time": "2024-08-16T21:27:31.846Z"
   },
   {
    "duration": 971,
    "start_time": "2024-08-16T21:27:32.783Z"
   },
   {
    "duration": 966,
    "start_time": "2024-08-16T21:27:33.758Z"
   },
   {
    "duration": 1024,
    "start_time": "2024-08-16T21:27:34.731Z"
   },
   {
    "duration": 4,
    "start_time": "2024-08-16T21:27:35.810Z"
   },
   {
    "duration": 5,
    "start_time": "2024-08-16T21:27:37.247Z"
   },
   {
    "duration": 4,
    "start_time": "2024-08-16T21:27:39.644Z"
   },
   {
    "duration": 272,
    "start_time": "2024-08-16T21:27:41.094Z"
   },
   {
    "duration": 4,
    "start_time": "2024-08-16T21:43:54.716Z"
   },
   {
    "duration": 179,
    "start_time": "2024-08-16T21:43:56.014Z"
   },
   {
    "duration": 26,
    "start_time": "2024-08-16T21:44:49.280Z"
   },
   {
    "duration": 6,
    "start_time": "2024-08-16T21:46:04.602Z"
   },
   {
    "duration": 3,
    "start_time": "2024-08-16T21:48:51.295Z"
   },
   {
    "duration": 6,
    "start_time": "2024-08-16T21:48:58.901Z"
   },
   {
    "duration": 132,
    "start_time": "2024-08-16T21:49:05.261Z"
   },
   {
    "duration": 201,
    "start_time": "2024-08-16T21:49:27.008Z"
   },
   {
    "duration": 5,
    "start_time": "2024-08-16T21:49:33.171Z"
   },
   {
    "duration": 5,
    "start_time": "2024-08-17T04:10:45.722Z"
   },
   {
    "duration": 4,
    "start_time": "2024-08-17T04:17:32.595Z"
   },
   {
    "duration": 5,
    "start_time": "2024-08-17T04:17:37.342Z"
   },
   {
    "duration": 6000,
    "start_time": "2024-08-17T04:18:08.131Z"
   },
   {
    "duration": 2013,
    "start_time": "2024-08-17T04:20:34.726Z"
   },
   {
    "duration": 2012,
    "start_time": "2024-08-17T04:20:45.257Z"
   },
   {
    "duration": 2062,
    "start_time": "2024-08-17T04:22:02.660Z"
   },
   {
    "duration": 6006,
    "start_time": "2024-08-17T04:22:29.647Z"
   },
   {
    "duration": 6,
    "start_time": "2024-08-17T04:24:31.426Z"
   },
   {
    "duration": 5992,
    "start_time": "2024-08-17T04:25:37.533Z"
   },
   {
    "duration": 5,
    "start_time": "2024-08-17T04:27:21.368Z"
   },
   {
    "duration": 5968,
    "start_time": "2024-08-17T04:27:22.532Z"
   },
   {
    "duration": 5,
    "start_time": "2024-08-17T04:27:28.503Z"
   },
   {
    "duration": 5,
    "start_time": "2024-08-17T04:27:34.883Z"
   },
   {
    "duration": 5,
    "start_time": "2024-08-17T04:27:59.086Z"
   },
   {
    "duration": 5969,
    "start_time": "2024-08-17T04:27:59.730Z"
   },
   {
    "duration": 5,
    "start_time": "2024-08-17T04:28:05.703Z"
   },
   {
    "duration": 6,
    "start_time": "2024-08-17T04:29:25.308Z"
   },
   {
    "duration": 4997,
    "start_time": "2024-08-18T02:11:31.381Z"
   },
   {
    "duration": 3041,
    "start_time": "2024-08-18T02:11:37.151Z"
   },
   {
    "duration": 24,
    "start_time": "2024-08-18T02:11:40.196Z"
   },
   {
    "duration": 7,
    "start_time": "2024-08-18T02:11:40.223Z"
   },
   {
    "duration": 31,
    "start_time": "2024-08-18T02:11:40.235Z"
   },
   {
    "duration": 29,
    "start_time": "2024-08-18T02:11:42.237Z"
   },
   {
    "duration": 30,
    "start_time": "2024-08-18T02:11:43.743Z"
   },
   {
    "duration": 27,
    "start_time": "2024-08-18T02:11:44.354Z"
   },
   {
    "duration": 30,
    "start_time": "2024-08-18T02:11:45.047Z"
   },
   {
    "duration": 29,
    "start_time": "2024-08-18T02:11:45.616Z"
   },
   {
    "duration": 81,
    "start_time": "2024-08-18T02:11:47.266Z"
   },
   {
    "duration": 5,
    "start_time": "2024-08-18T02:11:47.971Z"
   },
   {
    "duration": 5,
    "start_time": "2024-08-18T02:11:48.776Z"
   },
   {
    "duration": 5,
    "start_time": "2024-08-18T02:11:49.331Z"
   },
   {
    "duration": 15,
    "start_time": "2024-08-18T02:11:50.144Z"
   },
   {
    "duration": 1117,
    "start_time": "2024-08-18T02:11:55.208Z"
   },
   {
    "duration": 1002,
    "start_time": "2024-08-18T02:11:56.328Z"
   },
   {
    "duration": 1046,
    "start_time": "2024-08-18T02:11:57.334Z"
   },
   {
    "duration": 4,
    "start_time": "2024-08-18T02:12:08.005Z"
   },
   {
    "duration": 6,
    "start_time": "2024-08-18T02:12:12.114Z"
   },
   {
    "duration": 4,
    "start_time": "2024-08-18T02:12:14.606Z"
   },
   {
    "duration": 173,
    "start_time": "2024-08-18T02:12:16.242Z"
   },
   {
    "duration": 103,
    "start_time": "2024-08-18T02:12:35.233Z"
   },
   {
    "duration": 523,
    "start_time": "2024-08-18T02:12:45.159Z"
   },
   {
    "duration": 8,
    "start_time": "2024-08-18T02:12:49.681Z"
   },
   {
    "duration": 90,
    "start_time": "2024-08-18T02:12:51.529Z"
   },
   {
    "duration": 4,
    "start_time": "2024-08-18T02:12:57.021Z"
   },
   {
    "duration": 5,
    "start_time": "2024-08-18T02:12:58.667Z"
   },
   {
    "duration": 213,
    "start_time": "2024-08-18T02:12:59.921Z"
   },
   {
    "duration": 5,
    "start_time": "2024-08-18T02:13:04.508Z"
   },
   {
    "duration": 4,
    "start_time": "2024-08-18T16:41:53.776Z"
   },
   {
    "duration": 4264,
    "start_time": "2024-08-18T16:41:55.560Z"
   },
   {
    "duration": 18,
    "start_time": "2024-08-18T16:41:59.827Z"
   },
   {
    "duration": 6,
    "start_time": "2024-08-18T16:41:59.848Z"
   },
   {
    "duration": 31,
    "start_time": "2024-08-18T16:42:01.794Z"
   },
   {
    "duration": 27,
    "start_time": "2024-08-18T16:42:03.183Z"
   },
   {
    "duration": 30,
    "start_time": "2024-08-18T16:42:03.673Z"
   },
   {
    "duration": 28,
    "start_time": "2024-08-18T16:42:04.110Z"
   },
   {
    "duration": 30,
    "start_time": "2024-08-18T16:42:04.688Z"
   },
   {
    "duration": 28,
    "start_time": "2024-08-18T16:42:05.074Z"
   },
   {
    "duration": 82,
    "start_time": "2024-08-18T16:42:05.711Z"
   },
   {
    "duration": 6,
    "start_time": "2024-08-18T16:42:06.624Z"
   },
   {
    "duration": 6,
    "start_time": "2024-08-18T16:42:07.341Z"
   },
   {
    "duration": 5,
    "start_time": "2024-08-18T16:42:07.661Z"
   },
   {
    "duration": 14,
    "start_time": "2024-08-18T16:42:08.157Z"
   },
   {
    "duration": 1114,
    "start_time": "2024-08-18T16:42:13.854Z"
   },
   {
    "duration": 4,
    "start_time": "2024-08-18T16:45:55.770Z"
   },
   {
    "duration": 5,
    "start_time": "2024-08-18T16:46:00.253Z"
   },
   {
    "duration": 77,
    "start_time": "2024-08-18T16:46:03.565Z"
   },
   {
    "duration": 4,
    "start_time": "2024-08-18T17:08:55.481Z"
   },
   {
    "duration": 6,
    "start_time": "2024-08-18T17:08:57.527Z"
   },
   {
    "duration": 162,
    "start_time": "2024-08-18T17:09:02.569Z"
   },
   {
    "duration": 5,
    "start_time": "2024-08-18T17:09:08.827Z"
   },
   {
    "duration": 26,
    "start_time": "2024-08-18T17:13:40.597Z"
   },
   {
    "duration": 6,
    "start_time": "2024-08-18T17:13:51.249Z"
   },
   {
    "duration": 6208,
    "start_time": "2024-08-18T17:13:52.393Z"
   },
   {
    "duration": 5,
    "start_time": "2024-08-18T17:14:06.793Z"
   },
   {
    "duration": 5,
    "start_time": "2024-08-18T17:14:16.211Z"
   },
   {
    "duration": 5090,
    "start_time": "2024-08-18T18:40:33.168Z"
   },
   {
    "duration": 2985,
    "start_time": "2024-08-18T18:40:38.263Z"
   },
   {
    "duration": 21,
    "start_time": "2024-08-18T18:40:41.251Z"
   },
   {
    "duration": 7,
    "start_time": "2024-08-18T18:40:41.276Z"
   },
   {
    "duration": 31,
    "start_time": "2024-08-18T18:40:41.312Z"
   },
   {
    "duration": 30,
    "start_time": "2024-08-18T18:40:41.346Z"
   },
   {
    "duration": 60,
    "start_time": "2024-08-18T18:40:41.379Z"
   },
   {
    "duration": 28,
    "start_time": "2024-08-18T18:40:41.442Z"
   },
   {
    "duration": 58,
    "start_time": "2024-08-18T18:40:41.473Z"
   },
   {
    "duration": 27,
    "start_time": "2024-08-18T18:40:41.539Z"
   },
   {
    "duration": 107,
    "start_time": "2024-08-18T18:40:41.569Z"
   },
   {
    "duration": 6,
    "start_time": "2024-08-18T18:40:41.679Z"
   },
   {
    "duration": 25,
    "start_time": "2024-08-18T18:40:41.688Z"
   },
   {
    "duration": 6,
    "start_time": "2024-08-18T18:40:41.716Z"
   },
   {
    "duration": 16,
    "start_time": "2024-08-18T18:40:41.726Z"
   },
   {
    "duration": 1044,
    "start_time": "2024-08-18T18:40:41.745Z"
   },
   {
    "duration": 989,
    "start_time": "2024-08-18T18:40:42.792Z"
   },
   {
    "duration": 1128,
    "start_time": "2024-08-18T18:40:43.784Z"
   },
   {
    "duration": 5,
    "start_time": "2024-08-18T18:40:44.915Z"
   },
   {
    "duration": 7,
    "start_time": "2024-08-18T18:40:44.923Z"
   },
   {
    "duration": 4,
    "start_time": "2024-08-18T18:40:44.933Z"
   },
   {
    "duration": 182,
    "start_time": "2024-08-18T18:40:44.941Z"
   },
   {
    "duration": 7,
    "start_time": "2024-08-18T18:40:45.126Z"
   },
   {
    "duration": 11,
    "start_time": "2024-08-18T18:40:45.215Z"
   },
   {
    "duration": 296,
    "start_time": "2024-08-18T18:40:45.232Z"
   },
   {
    "duration": 10,
    "start_time": "2024-08-18T18:40:45.616Z"
   },
   {
    "duration": 82,
    "start_time": "2024-08-18T18:40:45.631Z"
   },
   {
    "duration": 6019,
    "start_time": "2024-08-18T18:40:45.719Z"
   },
   {
    "duration": 17,
    "start_time": "2024-08-18T18:42:16.230Z"
   },
   {
    "duration": 15,
    "start_time": "2024-08-18T18:44:27.541Z"
   },
   {
    "duration": 27,
    "start_time": "2024-08-18T18:44:56.046Z"
   },
   {
    "duration": 566,
    "start_time": "2024-08-18T18:45:40.578Z"
   },
   {
    "duration": 83,
    "start_time": "2024-08-18T18:45:46.244Z"
   },
   {
    "duration": 80,
    "start_time": "2024-08-18T18:45:51.239Z"
   },
   {
    "duration": 15,
    "start_time": "2024-08-18T18:46:29.850Z"
   },
   {
    "duration": 352,
    "start_time": "2024-08-18T18:46:46.223Z"
   },
   {
    "duration": 6,
    "start_time": "2024-08-18T18:46:58.114Z"
   },
   {
    "duration": 5,
    "start_time": "2024-08-18T18:47:01.622Z"
   },
   {
    "duration": 7,
    "start_time": "2024-08-18T18:48:04.133Z"
   },
   {
    "duration": 5097,
    "start_time": "2024-08-19T02:16:40.072Z"
   },
   {
    "duration": 3109,
    "start_time": "2024-08-19T02:16:50.187Z"
   },
   {
    "duration": 22,
    "start_time": "2024-08-19T02:16:53.299Z"
   },
   {
    "duration": 9,
    "start_time": "2024-08-19T02:16:53.334Z"
   },
   {
    "duration": 43,
    "start_time": "2024-08-19T02:16:53.348Z"
   },
   {
    "duration": 28,
    "start_time": "2024-08-19T02:16:58.680Z"
   },
   {
    "duration": 31,
    "start_time": "2024-08-19T02:16:59.681Z"
   },
   {
    "duration": 28,
    "start_time": "2024-08-19T02:17:00.206Z"
   },
   {
    "duration": 30,
    "start_time": "2024-08-19T02:17:00.837Z"
   },
   {
    "duration": 28,
    "start_time": "2024-08-19T02:17:01.505Z"
   },
   {
    "duration": 80,
    "start_time": "2024-08-19T02:17:02.414Z"
   },
   {
    "duration": 5,
    "start_time": "2024-08-19T02:17:02.924Z"
   },
   {
    "duration": 5,
    "start_time": "2024-08-19T02:17:03.280Z"
   },
   {
    "duration": 5,
    "start_time": "2024-08-19T02:17:03.718Z"
   },
   {
    "duration": 14,
    "start_time": "2024-08-19T02:17:04.484Z"
   },
   {
    "duration": 1073,
    "start_time": "2024-08-19T02:17:05.364Z"
   },
   {
    "duration": 1101,
    "start_time": "2024-08-19T02:17:06.441Z"
   },
   {
    "duration": 1040,
    "start_time": "2024-08-19T02:17:07.545Z"
   },
   {
    "duration": 5,
    "start_time": "2024-08-19T02:17:08.588Z"
   },
   {
    "duration": 7,
    "start_time": "2024-08-19T02:17:12.644Z"
   },
   {
    "duration": 4,
    "start_time": "2024-08-19T02:17:17.015Z"
   },
   {
    "duration": 199,
    "start_time": "2024-08-19T02:17:17.636Z"
   },
   {
    "duration": 4,
    "start_time": "2024-08-19T02:17:22.376Z"
   },
   {
    "duration": 7,
    "start_time": "2024-08-19T02:17:24.461Z"
   },
   {
    "duration": 175,
    "start_time": "2024-08-19T02:17:28.079Z"
   },
   {
    "duration": 5,
    "start_time": "2024-08-19T02:17:31.927Z"
   },
   {
    "duration": 5,
    "start_time": "2024-08-19T02:17:37.252Z"
   },
   {
    "duration": 557,
    "start_time": "2024-08-19T02:17:44.064Z"
   },
   {
    "duration": 6,
    "start_time": "2024-08-19T02:19:38.658Z"
   },
   {
    "duration": 199,
    "start_time": "2024-08-19T02:19:45.740Z"
   },
   {
    "duration": 7,
    "start_time": "2024-08-19T02:24:15.158Z"
   },
   {
    "duration": 223,
    "start_time": "2024-08-19T02:24:17.717Z"
   },
   {
    "duration": 6,
    "start_time": "2024-08-19T02:25:31.168Z"
   },
   {
    "duration": 194,
    "start_time": "2024-08-19T02:25:33.040Z"
   },
   {
    "duration": 9,
    "start_time": "2024-08-19T02:27:35.490Z"
   },
   {
    "duration": 7989,
    "start_time": "2024-08-19T02:27:38.048Z"
   },
   {
    "duration": 6,
    "start_time": "2024-08-19T02:29:06.299Z"
   },
   {
    "duration": 2553,
    "start_time": "2024-08-19T02:29:09.398Z"
   },
   {
    "duration": 2578,
    "start_time": "2024-08-19T02:30:42.380Z"
   },
   {
    "duration": 14,
    "start_time": "2024-08-19T02:31:06.408Z"
   },
   {
    "duration": 2488,
    "start_time": "2024-08-19T02:31:14.159Z"
   },
   {
    "duration": 7,
    "start_time": "2024-08-19T02:32:03.094Z"
   },
   {
    "duration": 2525,
    "start_time": "2024-08-19T02:32:08.814Z"
   },
   {
    "duration": 6,
    "start_time": "2024-08-19T02:32:42.577Z"
   },
   {
    "duration": 7985,
    "start_time": "2024-08-19T02:32:43.663Z"
   },
   {
    "duration": 7,
    "start_time": "2024-08-19T02:36:00.306Z"
   },
   {
    "duration": 159,
    "start_time": "2024-08-19T02:36:02.777Z"
   },
   {
    "duration": 7,
    "start_time": "2024-08-19T02:42:55.653Z"
   },
   {
    "duration": 2565,
    "start_time": "2024-08-19T02:43:00.349Z"
   },
   {
    "duration": 5101,
    "start_time": "2024-08-23T02:32:26.694Z"
   },
   {
    "duration": 3257,
    "start_time": "2024-08-23T02:32:31.798Z"
   },
   {
    "duration": 20,
    "start_time": "2024-08-23T02:32:36.014Z"
   },
   {
    "duration": 7,
    "start_time": "2024-08-23T02:32:37.285Z"
   },
   {
    "duration": 31,
    "start_time": "2024-08-23T02:32:38.191Z"
   },
   {
    "duration": 32,
    "start_time": "2024-08-23T02:32:38.911Z"
   },
   {
    "duration": 29,
    "start_time": "2024-08-23T02:32:39.640Z"
   },
   {
    "duration": 27,
    "start_time": "2024-08-23T02:32:40.333Z"
   },
   {
    "duration": 30,
    "start_time": "2024-08-23T02:32:40.986Z"
   },
   {
    "duration": 30,
    "start_time": "2024-08-23T02:32:41.529Z"
   },
   {
    "duration": 82,
    "start_time": "2024-08-23T02:32:42.182Z"
   },
   {
    "duration": 6,
    "start_time": "2024-08-23T02:32:42.999Z"
   },
   {
    "duration": 5,
    "start_time": "2024-08-23T02:32:43.644Z"
   },
   {
    "duration": 5,
    "start_time": "2024-08-23T02:32:44.161Z"
   },
   {
    "duration": 14,
    "start_time": "2024-08-23T02:32:44.713Z"
   },
   {
    "duration": 1069,
    "start_time": "2024-08-23T02:32:47.436Z"
   },
   {
    "duration": 520,
    "start_time": "2024-08-23T02:32:49.090Z"
   },
   {
    "duration": 24,
    "start_time": "2024-08-23T02:33:28.973Z"
   },
   {
    "duration": 22,
    "start_time": "2024-08-23T02:38:31.792Z"
   },
   {
    "duration": 45,
    "start_time": "2024-08-23T03:16:59.145Z"
   },
   {
    "duration": 5,
    "start_time": "2024-08-23T03:17:44.690Z"
   },
   {
    "duration": 136,
    "start_time": "2024-08-23T03:17:53.240Z"
   },
   {
    "duration": 128,
    "start_time": "2024-08-23T03:18:47.383Z"
   },
   {
    "duration": 93,
    "start_time": "2024-08-23T03:19:05.412Z"
   },
   {
    "duration": 96,
    "start_time": "2024-08-23T03:26:52.011Z"
   },
   {
    "duration": 29,
    "start_time": "2024-08-23T03:34:52.650Z"
   },
   {
    "duration": 30,
    "start_time": "2024-08-23T03:35:05.429Z"
   },
   {
    "duration": 58,
    "start_time": "2024-08-23T03:38:28.951Z"
   },
   {
    "duration": 31,
    "start_time": "2024-08-23T03:39:35.276Z"
   },
   {
    "duration": 940,
    "start_time": "2024-08-23T03:49:47.413Z"
   },
   {
    "duration": 30,
    "start_time": "2024-08-23T03:49:48.357Z"
   },
   {
    "duration": 1036,
    "start_time": "2024-08-23T03:49:49.752Z"
   },
   {
    "duration": 30,
    "start_time": "2024-08-23T03:49:50.857Z"
   },
   {
    "duration": 4,
    "start_time": "2024-08-23T03:49:53.537Z"
   },
   {
    "duration": 6,
    "start_time": "2024-08-23T03:49:55.044Z"
   },
   {
    "duration": 4,
    "start_time": "2024-08-23T03:49:56.652Z"
   },
   {
    "duration": 139,
    "start_time": "2024-08-23T03:49:57.596Z"
   },
   {
    "duration": 4,
    "start_time": "2024-08-23T03:50:02.651Z"
   },
   {
    "duration": 6,
    "start_time": "2024-08-23T03:50:04.717Z"
   },
   {
    "duration": 238,
    "start_time": "2024-08-23T03:50:07.907Z"
   },
   {
    "duration": 5,
    "start_time": "2024-08-23T03:50:10.535Z"
   },
   {
    "duration": 8,
    "start_time": "2024-08-23T03:50:35.610Z"
   },
   {
    "duration": 97,
    "start_time": "2024-08-23T03:50:36.558Z"
   },
   {
    "duration": 26,
    "start_time": "2024-08-23T03:50:38.365Z"
   },
   {
    "duration": 8,
    "start_time": "2024-08-23T03:52:01.504Z"
   },
   {
    "duration": 123,
    "start_time": "2024-08-23T03:52:02.228Z"
   },
   {
    "duration": 2585,
    "start_time": "2024-08-23T03:52:14.766Z"
   },
   {
    "duration": 4,
    "start_time": "2024-08-23T03:52:19.945Z"
   },
   {
    "duration": 7,
    "start_time": "2024-08-23T03:53:16.255Z"
   },
   {
    "duration": 2572,
    "start_time": "2024-08-23T03:53:17.091Z"
   },
   {
    "duration": 2595,
    "start_time": "2024-08-23T03:55:03.973Z"
   },
   {
    "duration": 5,
    "start_time": "2024-08-23T03:55:17.295Z"
   },
   {
    "duration": 5,
    "start_time": "2024-08-23T03:59:20.049Z"
   },
   {
    "duration": 1423,
    "start_time": "2024-08-23T04:33:29.332Z"
   },
   {
    "duration": 4,
    "start_time": "2024-08-23T04:41:20.976Z"
   },
   {
    "duration": 3055,
    "start_time": "2024-08-23T04:41:20.984Z"
   },
   {
    "duration": 19,
    "start_time": "2024-08-23T04:41:24.042Z"
   },
   {
    "duration": 7,
    "start_time": "2024-08-23T04:41:24.064Z"
   },
   {
    "duration": 59,
    "start_time": "2024-08-23T04:41:24.075Z"
   },
   {
    "duration": 28,
    "start_time": "2024-08-23T04:41:24.137Z"
   },
   {
    "duration": 55,
    "start_time": "2024-08-23T04:41:24.168Z"
   },
   {
    "duration": 28,
    "start_time": "2024-08-23T04:41:24.226Z"
   },
   {
    "duration": 59,
    "start_time": "2024-08-23T04:41:24.256Z"
   },
   {
    "duration": 27,
    "start_time": "2024-08-23T04:41:24.318Z"
   },
   {
    "duration": 106,
    "start_time": "2024-08-23T04:41:24.348Z"
   },
   {
    "duration": 6,
    "start_time": "2024-08-23T04:41:24.456Z"
   },
   {
    "duration": 6,
    "start_time": "2024-08-23T04:41:24.469Z"
   },
   {
    "duration": 30,
    "start_time": "2024-08-23T04:41:24.478Z"
   },
   {
    "duration": 17,
    "start_time": "2024-08-23T04:41:24.511Z"
   },
   {
    "duration": 1157,
    "start_time": "2024-08-23T04:41:24.532Z"
   },
   {
    "duration": 33,
    "start_time": "2024-08-23T04:41:25.693Z"
   },
   {
    "duration": 993,
    "start_time": "2024-08-23T04:41:25.733Z"
   },
   {
    "duration": 31,
    "start_time": "2024-08-23T04:41:26.729Z"
   },
   {
    "duration": 1054,
    "start_time": "2024-08-23T04:41:26.763Z"
   },
   {
    "duration": 30,
    "start_time": "2024-08-23T04:41:27.821Z"
   },
   {
    "duration": 4,
    "start_time": "2024-08-23T04:41:27.855Z"
   },
   {
    "duration": 6,
    "start_time": "2024-08-23T04:41:27.863Z"
   },
   {
    "duration": 4,
    "start_time": "2024-08-23T04:41:27.908Z"
   },
   {
    "duration": 198,
    "start_time": "2024-08-23T04:41:27.916Z"
   },
   {
    "duration": 4,
    "start_time": "2024-08-23T04:41:28.118Z"
   },
   {
    "duration": 7,
    "start_time": "2024-08-23T04:41:28.125Z"
   },
   {
    "duration": 314,
    "start_time": "2024-08-23T04:41:28.211Z"
   },
   {
    "duration": 5,
    "start_time": "2024-08-23T04:41:28.528Z"
   },
   {
    "duration": 81,
    "start_time": "2024-08-23T04:41:28.536Z"
   },
   {
    "duration": 29,
    "start_time": "2024-08-23T04:42:06.956Z"
   },
   {
    "duration": 1211,
    "start_time": "2024-08-23T04:42:22.569Z"
   },
   {
    "duration": 9,
    "start_time": "2024-08-23T04:42:38.120Z"
   },
   {
    "duration": 8,
    "start_time": "2024-08-23T04:42:52.831Z"
   },
   {
    "duration": 1829,
    "start_time": "2024-08-23T04:42:59.135Z"
   }
  ],
  "kernelspec": {
   "display_name": "Python 3 (ipykernel)",
   "language": "python",
   "name": "python3"
  },
  "language_info": {
   "codemirror_mode": {
    "name": "ipython",
    "version": 3
   },
   "file_extension": ".py",
   "mimetype": "text/x-python",
   "name": "python",
   "nbconvert_exporter": "python",
   "pygments_lexer": "ipython3",
   "version": "3.9.19"
  },
  "toc": {
   "base_numbering": 1,
   "nav_menu": {},
   "number_sections": true,
   "sideBar": true,
   "skip_h1_title": true,
   "title_cell": "Table of Contents",
   "title_sidebar": "Contents",
   "toc_cell": false,
   "toc_position": {
    "height": "calc(100% - 180px)",
    "left": "10px",
    "top": "150px",
    "width": "251px"
   },
   "toc_section_display": true,
   "toc_window_display": true
  }
 },
 "nbformat": 4,
 "nbformat_minor": 2
}
